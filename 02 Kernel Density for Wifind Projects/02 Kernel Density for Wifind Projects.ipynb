{
 "cells": [
  {
   "cell_type": "markdown",
   "metadata": {},
   "source": [
    "# 02 Kernel Density for Wifind Projects\n",
    "---"
   ]
  },
  {
   "cell_type": "markdown",
   "metadata": {},
   "source": [
    "### Xiaomeng Dong"
   ]
  },
  {
   "cell_type": "code",
   "execution_count": 20,
   "metadata": {
    "collapsed": true
   },
   "outputs": [],
   "source": [
    "import urllib2\n",
    "import json\n",
    "import pandas as pd\n",
    "import os\n",
    "import numpy as np\n",
    "import datetime as dt\n",
    "from shapely.geometry import Point, Polygon\n",
    "import geopandas as gpd\n",
    "from fiona.crs import from_epsg\n",
    "import seaborn as sns\n",
    "import matplotlib.pyplot as plt\n",
    "%matplotlib inline"
   ]
  },
  {
   "cell_type": "markdown",
   "metadata": {},
   "source": [
    "## Functions handling datetime"
   ]
  },
  {
   "cell_type": "code",
   "execution_count": 2,
   "metadata": {
    "collapsed": true
   },
   "outputs": [],
   "source": [
    "def check(start_date, end_date):\n",
    "    def checkdate(stamp):\n",
    "        d = dt.datetime.fromtimestamp(stamp/1000.)\n",
    "        if d >= start_date and d <= end_date:\n",
    "            return True\n",
    "        else:\n",
    "            return False\n",
    "    return checkdate"
   ]
  },
  {
   "cell_type": "code",
   "execution_count": 3,
   "metadata": {
    "collapsed": true
   },
   "outputs": [],
   "source": [
    "def todt(stamp):\n",
    "    return dt.datetime.fromtimestamp(stamp/1000.)"
   ]
  },
  {
   "cell_type": "markdown",
   "metadata": {},
   "source": [
    "## 1. Load wifi data collected."
   ]
  },
  {
   "cell_type": "code",
   "execution_count": 4,
   "metadata": {
    "collapsed": false
   },
   "outputs": [
    {
     "data": {
      "text/html": [
       "<div>\n",
       "<table border=\"1\" class=\"dataframe\">\n",
       "  <thead>\n",
       "    <tr style=\"text-align: right;\">\n",
       "      <th></th>\n",
       "      <th>idx</th>\n",
       "      <th>lat</th>\n",
       "      <th>lng</th>\n",
       "      <th>acc</th>\n",
       "      <th>altitude</th>\n",
       "      <th>time</th>\n",
       "      <th>device_mac</th>\n",
       "      <th>app_version</th>\n",
       "      <th>droid_version</th>\n",
       "      <th>device_model</th>\n",
       "      <th>ssid</th>\n",
       "      <th>bssid</th>\n",
       "      <th>caps</th>\n",
       "      <th>level</th>\n",
       "      <th>freq</th>\n",
       "    </tr>\n",
       "  </thead>\n",
       "  <tbody>\n",
       "    <tr>\n",
       "      <th>0</th>\n",
       "      <td>56800549</td>\n",
       "      <td>40.693509</td>\n",
       "      <td>-73.981415</td>\n",
       "      <td>16.0</td>\n",
       "      <td>-11.0</td>\n",
       "      <td>1497558896000</td>\n",
       "      <td>b883c7e343eb726c</td>\n",
       "      <td>0.3.3</td>\n",
       "      <td>5.1.1</td>\n",
       "      <td>Nexus 4</td>\n",
       "      <td>downtownbrooklynwifi_fon</td>\n",
       "      <td>c4:10:8a:22:f4:f8</td>\n",
       "      <td>[ess]</td>\n",
       "      <td>-58</td>\n",
       "      <td>2427</td>\n",
       "    </tr>\n",
       "  </tbody>\n",
       "</table>\n",
       "</div>"
      ],
      "text/plain": [
       "        idx        lat        lng   acc  altitude           time  \\\n",
       "0  56800549  40.693509 -73.981415  16.0     -11.0  1497558896000   \n",
       "\n",
       "         device_mac app_version droid_version device_model  \\\n",
       "0  b883c7e343eb726c       0.3.3         5.1.1      Nexus 4   \n",
       "\n",
       "                       ssid              bssid   caps  level  freq  \n",
       "0  downtownbrooklynwifi_fon  c4:10:8a:22:f4:f8  [ess]    -58  2427  "
      ]
     },
     "execution_count": 4,
     "metadata": {},
     "output_type": "execute_result"
    }
   ],
   "source": [
    "# Data collected from 3:00pm to 5:00pm on 06/15/2017 \n",
    "\n",
    "df1 = pd.read_csv('https://raw.githubusercontent.com/xd515/Wifind_file/master/dxm10000.csv')\n",
    "start_date1 = dt.datetime(2017,6,15,15,0,0)\n",
    "end_date1 = dt.datetime(2017,6,15,17,0,0)\n",
    "df_dxm1 = df1[df1.time.apply(check(start_date1, end_date1))]\n",
    "df_dxm1.reset_index(drop=True, inplace=True)\n",
    "df_dxm1.head(1)"
   ]
  },
  {
   "cell_type": "code",
   "execution_count": 5,
   "metadata": {
    "collapsed": false
   },
   "outputs": [
    {
     "data": {
      "text/html": [
       "<div>\n",
       "<table border=\"1\" class=\"dataframe\">\n",
       "  <thead>\n",
       "    <tr style=\"text-align: right;\">\n",
       "      <th></th>\n",
       "      <th>idx</th>\n",
       "      <th>lat</th>\n",
       "      <th>lng</th>\n",
       "      <th>acc</th>\n",
       "      <th>altitude</th>\n",
       "      <th>time</th>\n",
       "      <th>device_mac</th>\n",
       "      <th>app_version</th>\n",
       "      <th>droid_version</th>\n",
       "      <th>device_model</th>\n",
       "      <th>ssid</th>\n",
       "      <th>bssid</th>\n",
       "      <th>caps</th>\n",
       "      <th>level</th>\n",
       "      <th>freq</th>\n",
       "    </tr>\n",
       "  </thead>\n",
       "  <tbody>\n",
       "    <tr>\n",
       "      <th>0</th>\n",
       "      <td>56825737</td>\n",
       "      <td>40.691534</td>\n",
       "      <td>-73.985218</td>\n",
       "      <td>19.835</td>\n",
       "      <td>0.0</td>\n",
       "      <td>1498005108227</td>\n",
       "      <td>b883c7e343eb726c</td>\n",
       "      <td>0.3.3</td>\n",
       "      <td>5.1.1</td>\n",
       "      <td>Nexus 4</td>\n",
       "      <td>fios-23s</td>\n",
       "      <td>48:5d:36:b6:c2:86</td>\n",
       "      <td>[wpa2-psk-ccmp][wps][ess]</td>\n",
       "      <td>-49</td>\n",
       "      <td>2437</td>\n",
       "    </tr>\n",
       "  </tbody>\n",
       "</table>\n",
       "</div>"
      ],
      "text/plain": [
       "        idx        lat        lng     acc  altitude           time  \\\n",
       "0  56825737  40.691534 -73.985218  19.835       0.0  1498005108227   \n",
       "\n",
       "         device_mac app_version droid_version device_model      ssid  \\\n",
       "0  b883c7e343eb726c       0.3.3         5.1.1      Nexus 4  fios-23s   \n",
       "\n",
       "               bssid                       caps  level  freq  \n",
       "0  48:5d:36:b6:c2:86  [wpa2-psk-ccmp][wps][ess]    -49  2437  "
      ]
     },
     "execution_count": 5,
     "metadata": {},
     "output_type": "execute_result"
    }
   ],
   "source": [
    "# Data collected from 4:00pm to 21:00 pm on 06/22/2017 \n",
    "\n",
    "df2 = pd.read_csv('https://raw.githubusercontent.com/xd515/Wifind_file/master/dxm30000.csv')\n",
    "start_date2 = dt.datetime(2017,6,20,16,0,0)\n",
    "end_date2 = dt.datetime(2017,6,20,21,0,0)\n",
    "df_dxm2 = df2[df2.time.apply(check(start_date2, end_date2))]\n",
    "df_dxm2.reset_index(drop=True, inplace=True)\n",
    "df_dxm2.head(1)"
   ]
  },
  {
   "cell_type": "code",
   "execution_count": 6,
   "metadata": {
    "collapsed": false
   },
   "outputs": [
    {
     "data": {
      "text/html": [
       "<div>\n",
       "<table border=\"1\" class=\"dataframe\">\n",
       "  <thead>\n",
       "    <tr style=\"text-align: right;\">\n",
       "      <th></th>\n",
       "      <th>idx</th>\n",
       "      <th>lat</th>\n",
       "      <th>lng</th>\n",
       "      <th>acc</th>\n",
       "      <th>altitude</th>\n",
       "      <th>time</th>\n",
       "      <th>device_mac</th>\n",
       "      <th>app_version</th>\n",
       "      <th>droid_version</th>\n",
       "      <th>device_model</th>\n",
       "      <th>ssid</th>\n",
       "      <th>bssid</th>\n",
       "      <th>caps</th>\n",
       "      <th>level</th>\n",
       "      <th>freq</th>\n",
       "    </tr>\n",
       "  </thead>\n",
       "  <tbody>\n",
       "    <tr>\n",
       "      <th>0</th>\n",
       "      <td>56800549</td>\n",
       "      <td>40.693509</td>\n",
       "      <td>-73.981415</td>\n",
       "      <td>16.0</td>\n",
       "      <td>-11.0</td>\n",
       "      <td>1497558896000</td>\n",
       "      <td>b883c7e343eb726c</td>\n",
       "      <td>0.3.3</td>\n",
       "      <td>5.1.1</td>\n",
       "      <td>Nexus 4</td>\n",
       "      <td>downtownbrooklynwifi_fon</td>\n",
       "      <td>c4:10:8a:22:f4:f8</td>\n",
       "      <td>[ess]</td>\n",
       "      <td>-58</td>\n",
       "      <td>2427</td>\n",
       "    </tr>\n",
       "  </tbody>\n",
       "</table>\n",
       "</div>"
      ],
      "text/plain": [
       "        idx        lat        lng   acc  altitude           time  \\\n",
       "0  56800549  40.693509 -73.981415  16.0     -11.0  1497558896000   \n",
       "\n",
       "         device_mac app_version droid_version device_model  \\\n",
       "0  b883c7e343eb726c       0.3.3         5.1.1      Nexus 4   \n",
       "\n",
       "                       ssid              bssid   caps  level  freq  \n",
       "0  downtownbrooklynwifi_fon  c4:10:8a:22:f4:f8  [ess]    -58  2427  "
      ]
     },
     "execution_count": 6,
     "metadata": {},
     "output_type": "execute_result"
    }
   ],
   "source": [
    "# Concat two datasets\n",
    "\n",
    "frames1 = [df_dxm1, df_dxm2]\n",
    "result1 = pd.concat(frames1)\n",
    "result1.head(1)"
   ]
  },
  {
   "cell_type": "code",
   "execution_count": 7,
   "metadata": {
    "collapsed": false
   },
   "outputs": [
    {
     "data": {
      "text/html": [
       "<div>\n",
       "<table border=\"1\" class=\"dataframe\">\n",
       "  <thead>\n",
       "    <tr style=\"text-align: right;\">\n",
       "      <th></th>\n",
       "      <th>idx</th>\n",
       "      <th>lat</th>\n",
       "      <th>lng</th>\n",
       "      <th>acc</th>\n",
       "      <th>altitude</th>\n",
       "      <th>time</th>\n",
       "      <th>device_mac</th>\n",
       "      <th>app_version</th>\n",
       "      <th>droid_version</th>\n",
       "      <th>device_model</th>\n",
       "      <th>ssid</th>\n",
       "      <th>bssid</th>\n",
       "      <th>caps</th>\n",
       "      <th>level</th>\n",
       "      <th>freq</th>\n",
       "      <th>geo</th>\n",
       "      <th>geometry</th>\n",
       "    </tr>\n",
       "  </thead>\n",
       "  <tbody>\n",
       "    <tr>\n",
       "      <th>0</th>\n",
       "      <td>56800549</td>\n",
       "      <td>40.693509</td>\n",
       "      <td>-73.981415</td>\n",
       "      <td>16.0</td>\n",
       "      <td>-11.0</td>\n",
       "      <td>1497558896000</td>\n",
       "      <td>b883c7e343eb726c</td>\n",
       "      <td>0.3.3</td>\n",
       "      <td>5.1.1</td>\n",
       "      <td>Nexus 4</td>\n",
       "      <td>downtownbrooklynwifi_fon</td>\n",
       "      <td>c4:10:8a:22:f4:f8</td>\n",
       "      <td>[ess]</td>\n",
       "      <td>-58</td>\n",
       "      <td>2427</td>\n",
       "      <td>(-73.98141452, 40.69350921)</td>\n",
       "      <td>POINT (-73.98141452 40.69350921)</td>\n",
       "    </tr>\n",
       "  </tbody>\n",
       "</table>\n",
       "</div>"
      ],
      "text/plain": [
       "        idx        lat        lng   acc  altitude           time  \\\n",
       "0  56800549  40.693509 -73.981415  16.0     -11.0  1497558896000   \n",
       "\n",
       "         device_mac app_version droid_version device_model  \\\n",
       "0  b883c7e343eb726c       0.3.3         5.1.1      Nexus 4   \n",
       "\n",
       "                       ssid              bssid   caps  level  freq  \\\n",
       "0  downtownbrooklynwifi_fon  c4:10:8a:22:f4:f8  [ess]    -58  2427   \n",
       "\n",
       "                           geo                          geometry  \n",
       "0  (-73.98141452, 40.69350921)  POINT (-73.98141452 40.69350921)  "
      ]
     },
     "execution_count": 7,
     "metadata": {},
     "output_type": "execute_result"
    }
   ],
   "source": [
    "# Transform datasets to geometry data\n",
    "\n",
    "result1['geo'] = zip(result1.lng, result1.lat)\n",
    "result1['geometry'] = map(lambda x: Point(x), zip(result1.lng, result1.lat))\n",
    "result1.head(1)"
   ]
  },
  {
   "cell_type": "code",
   "execution_count": 8,
   "metadata": {
    "collapsed": false
   },
   "outputs": [
    {
     "name": "stdout",
     "output_type": "stream",
     "text": [
      "Unique bssid of the wifi access point:  (4994,)\n"
     ]
    }
   ],
   "source": [
    "# Point out unique number of wifi access points\n",
    "# For the same wifi ssid may have different bssid, the number is calculated by unique bssid here\n",
    "\n",
    "print \"Unique bssid of the wifi access point: \", result1.bssid.unique().shape"
   ]
  },
  {
   "cell_type": "markdown",
   "metadata": {},
   "source": [
    "## 2. Filter the points around housing projects"
   ]
  },
  {
   "cell_type": "code",
   "execution_count": 9,
   "metadata": {
    "collapsed": false
   },
   "outputs": [],
   "source": [
    "#Convert points to geodataframe\n",
    "\n",
    "result2 = gpd.GeoDataFrame(result1, geometry = 'geometry')\n",
    "result2.crs = from_epsg(4326)\n",
    "result2.to_crs(epsg=2263, inplace=True)"
   ]
  },
  {
   "cell_type": "code",
   "execution_count": 10,
   "metadata": {
    "collapsed": true
   },
   "outputs": [],
   "source": [
    "# Outline the range of public housing projects\n",
    "\n",
    "outline = Polygon([[-73.982483, 40.693547], [-73.982397, 40.695865], [-73.980369, 40.696199], [-73.973460, 40.695906], \\\n",
    "[-73.972880, 40.693221]])"
   ]
  },
  {
   "cell_type": "code",
   "execution_count": 12,
   "metadata": {
    "collapsed": false
   },
   "outputs": [
    {
     "data": {
      "text/html": [
       "<div>\n",
       "<table border=\"1\" class=\"dataframe\">\n",
       "  <thead>\n",
       "    <tr style=\"text-align: right;\">\n",
       "      <th></th>\n",
       "      <th>idx</th>\n",
       "      <th>lat</th>\n",
       "      <th>lng</th>\n",
       "      <th>acc</th>\n",
       "      <th>altitude</th>\n",
       "      <th>time</th>\n",
       "      <th>device_mac</th>\n",
       "      <th>app_version</th>\n",
       "      <th>droid_version</th>\n",
       "      <th>device_model</th>\n",
       "      <th>ssid</th>\n",
       "      <th>bssid</th>\n",
       "      <th>caps</th>\n",
       "      <th>level</th>\n",
       "      <th>freq</th>\n",
       "      <th>geo</th>\n",
       "      <th>geometry</th>\n",
       "    </tr>\n",
       "  </thead>\n",
       "  <tbody>\n",
       "    <tr>\n",
       "      <th>41</th>\n",
       "      <td>56800513</td>\n",
       "      <td>40.69354</td>\n",
       "      <td>-73.981308</td>\n",
       "      <td>18.0</td>\n",
       "      <td>-10.2</td>\n",
       "      <td>1497558890000</td>\n",
       "      <td>b883c7e343eb726c</td>\n",
       "      <td>0.3.3</td>\n",
       "      <td>5.1.1</td>\n",
       "      <td>Nexus 4</td>\n",
       "      <td>downtownbrooklynwifi_fon</td>\n",
       "      <td>c4:10:8a:22:f4:f8</td>\n",
       "      <td>[ess]</td>\n",
       "      <td>-58</td>\n",
       "      <td>2427</td>\n",
       "      <td>(-73.98130804, 40.69354015)</td>\n",
       "      <td>POINT (989433.4243093401 191952.3774788328)</td>\n",
       "    </tr>\n",
       "  </tbody>\n",
       "</table>\n",
       "</div>"
      ],
      "text/plain": [
       "         idx       lat        lng   acc  altitude           time  \\\n",
       "41  56800513  40.69354 -73.981308  18.0     -10.2  1497558890000   \n",
       "\n",
       "          device_mac app_version droid_version device_model  \\\n",
       "41  b883c7e343eb726c       0.3.3         5.1.1      Nexus 4   \n",
       "\n",
       "                        ssid              bssid   caps  level  freq  \\\n",
       "41  downtownbrooklynwifi_fon  c4:10:8a:22:f4:f8  [ess]    -58  2427   \n",
       "\n",
       "                            geo                                     geometry  \n",
       "41  (-73.98130804, 40.69354015)  POINT (989433.4243093401 191952.3774788328)  "
      ]
     },
     "execution_count": 12,
     "metadata": {},
     "output_type": "execute_result"
    }
   ],
   "source": [
    "# Filter points within the range of housing projects\n",
    "\n",
    "result3 = result2[result2.geo.apply(Point).apply(outline.contains)]\n",
    "result3.head(1)"
   ]
  },
  {
   "cell_type": "code",
   "execution_count": 23,
   "metadata": {
    "collapsed": false
   },
   "outputs": [
    {
     "data": {
      "text/html": [
       "<div>\n",
       "<table border=\"1\" class=\"dataframe\">\n",
       "  <thead>\n",
       "    <tr style=\"text-align: right;\">\n",
       "      <th></th>\n",
       "      <th>lat</th>\n",
       "      <th>lng</th>\n",
       "      <th>level</th>\n",
       "      <th>acc</th>\n",
       "    </tr>\n",
       "  </thead>\n",
       "  <tbody>\n",
       "    <tr>\n",
       "      <th>41</th>\n",
       "      <td>40.69354</td>\n",
       "      <td>-73.981308</td>\n",
       "      <td>-58</td>\n",
       "      <td>18.0</td>\n",
       "    </tr>\n",
       "  </tbody>\n",
       "</table>\n",
       "</div>"
      ],
      "text/plain": [
       "         lat        lng  level   acc\n",
       "41  40.69354 -73.981308    -58  18.0"
      ]
     },
     "execution_count": 23,
     "metadata": {},
     "output_type": "execute_result"
    }
   ],
   "source": [
    "result4 = result3[['lat', 'lng', 'level','acc']]\n",
    "result4.head(1)"
   ]
  },
  {
   "cell_type": "markdown",
   "metadata": {},
   "source": [
    "## 3. Plot kernel density among housing projects\n"
   ]
  },
  {
   "cell_type": "code",
   "execution_count": 49,
   "metadata": {
    "collapsed": false
   },
   "outputs": [
    {
     "data": {
      "text/html": [
       "<div>\n",
       "<table border=\"1\" class=\"dataframe\">\n",
       "  <thead>\n",
       "    <tr style=\"text-align: right;\">\n",
       "      <th></th>\n",
       "      <th>tds_num</th>\n",
       "      <th>developmen</th>\n",
       "      <th>borough</th>\n",
       "      <th>geometry</th>\n",
       "    </tr>\n",
       "  </thead>\n",
       "  <tbody>\n",
       "    <tr>\n",
       "      <th>0</th>\n",
       "      <td>213</td>\n",
       "      <td>FHA REPOSSESSED HOUSES (GROUP III)</td>\n",
       "      <td>VARIOUS</td>\n",
       "      <td>(POLYGON ((-73.93559146071932 40.6594891659253...</td>\n",
       "    </tr>\n",
       "  </tbody>\n",
       "</table>\n",
       "</div>"
      ],
      "text/plain": [
       "  tds_num                          developmen  borough  \\\n",
       "0     213  FHA REPOSSESSED HOUSES (GROUP III)  VARIOUS   \n",
       "\n",
       "                                            geometry  \n",
       "0  (POLYGON ((-73.93559146071932 40.6594891659253...  "
      ]
     },
     "execution_count": 49,
     "metadata": {},
     "output_type": "execute_result"
    }
   ],
   "source": [
    "# Pull geometry data of housing projects\n",
    "\n",
    "houses = gpd.GeoDataFrame.from_file('./Map of NYCHA Developments/geo_export_4a7ee29e-89c3-4303-acec-d52730808feb.shp')\n",
    "#houses.crs = from_epsg(2263)\n",
    "#houses.to_crs(epsg=43, inplace=True)\n",
    "houses.head(1)"
   ]
  },
  {
   "cell_type": "code",
   "execution_count": 48,
   "metadata": {
    "collapsed": false
   },
   "outputs": [
    {
     "data": {
      "image/png": "[encoded data removed]",
      "text/plain": [
       "<matplotlib.figure.Figure at 0x11b9d39d0>"
      ]
     },
     "metadata": {},
     "output_type": "display_data"
    }
   ],
   "source": [
    "# Kernel density of wifi access points around housing projects\n",
    "\n",
    "fig, ax = plt.subplots(figsize=(12,9))\n",
    "ax = sns.kdeplot(result4['lng'], result4['lat'], \n",
    "                 gridsize= 100, bw = 'scott', shade = True, kernel = 'gau', shade_lowest=False,\n",
    "                 legend = True, zorder=1)\n",
    "houses.plot(ax = ax, alpha=0.2, zorder=2)\n",
    "\n",
    "#ax.get_xlim(), ax.get_ylim()\n",
    "\n",
    "plt.xlim(-73.983660088701654, -73.971813621298352)\n",
    "plt.ylim(40.692762589021697, 40.696623770978306)\n",
    "plt.show()"
   ]
  },
  {
   "cell_type": "code",
   "execution_count": 53,
   "metadata": {
    "collapsed": false
   },
   "outputs": [
    {
     "data": {
      "text/html": [
       "<div>\n",
       "<table border=\"1\" class=\"dataframe\">\n",
       "  <thead>\n",
       "    <tr style=\"text-align: right;\">\n",
       "      <th></th>\n",
       "      <th>idx</th>\n",
       "      <th>lat</th>\n",
       "      <th>lng</th>\n",
       "      <th>acc</th>\n",
       "      <th>altitude</th>\n",
       "      <th>time</th>\n",
       "      <th>device_mac</th>\n",
       "      <th>app_version</th>\n",
       "      <th>droid_version</th>\n",
       "      <th>device_model</th>\n",
       "      <th>ssid</th>\n",
       "      <th>bssid</th>\n",
       "      <th>caps</th>\n",
       "      <th>level</th>\n",
       "      <th>freq</th>\n",
       "      <th>geo</th>\n",
       "      <th>geometry</th>\n",
       "    </tr>\n",
       "  </thead>\n",
       "  <tbody>\n",
       "    <tr>\n",
       "      <th>41</th>\n",
       "      <td>56800513</td>\n",
       "      <td>40.69354</td>\n",
       "      <td>-73.981308</td>\n",
       "      <td>18.0</td>\n",
       "      <td>-10.2</td>\n",
       "      <td>1497558890000</td>\n",
       "      <td>b883c7e343eb726c</td>\n",
       "      <td>0.3.3</td>\n",
       "      <td>5.1.1</td>\n",
       "      <td>Nexus 4</td>\n",
       "      <td>downtownbrooklynwifi_fon</td>\n",
       "      <td>c4:10:8a:22:f4:f8</td>\n",
       "      <td>[ess]</td>\n",
       "      <td>-58</td>\n",
       "      <td>2427</td>\n",
       "      <td>(-73.98130804, 40.69354015)</td>\n",
       "      <td>POINT (989433.4243093401 191952.3774788328)</td>\n",
       "    </tr>\n",
       "  </tbody>\n",
       "</table>\n",
       "</div>"
      ],
      "text/plain": [
       "         idx       lat        lng   acc  altitude           time  \\\n",
       "41  56800513  40.69354 -73.981308  18.0     -10.2  1497558890000   \n",
       "\n",
       "          device_mac app_version droid_version device_model  \\\n",
       "41  b883c7e343eb726c       0.3.3         5.1.1      Nexus 4   \n",
       "\n",
       "                        ssid              bssid   caps  level  freq  \\\n",
       "41  downtownbrooklynwifi_fon  c4:10:8a:22:f4:f8  [ess]    -58  2427   \n",
       "\n",
       "                            geo                                     geometry  \n",
       "41  (-73.98130804, 40.69354015)  POINT (989433.4243093401 191952.3774788328)  "
      ]
     },
     "execution_count": 53,
     "metadata": {},
     "output_type": "execute_result"
    }
   ],
   "source": [
    "# Find out the free wifi \n",
    "\n",
    "free_wifi=['#flatiron free wifi', 'freewifibysurface','bryantpark.org', 'downtownbrooklynwifi_fon',\n",
    "'linknyc free wi-fi', 'metrotech','usp park wifi', 'red hook wifi']\n",
    "\n",
    "free_points = result3[result3.ssid.isin(free_wifi)]\n",
    "free_points.head(1)"
   ]
  },
  {
   "cell_type": "code",
   "execution_count": 56,
   "metadata": {
    "collapsed": false
   },
   "outputs": [
    {
     "name": "stdout",
     "output_type": "stream",
     "text": [
      "Unique bssid of the free wifi access point:  ['downtownbrooklynwifi_fon']\n"
     ]
    }
   ],
   "source": [
    "# Point out unique number of free wifi access points\n",
    "\n",
    "print \"Unique bssid of the free wifi access point: \", free_points.ssid.unique()"
   ]
  },
  {
   "cell_type": "code",
   "execution_count": 57,
   "metadata": {
    "collapsed": false
   },
   "outputs": [
    {
     "data": {
      "image/png": "[encoded data removed]",
      "text/plain": [
       "<matplotlib.figure.Figure at 0x11fb890d0>"
      ]
     },
     "metadata": {},
     "output_type": "display_data"
    }
   ],
   "source": [
    "# Kernel density of free wifi access points around housing projects\n",
    "\n",
    "fig, ax = plt.subplots(figsize=(12,9))\n",
    "ax_free = sns.kdeplot(free_points['lng'], free_points['lat'], \n",
    "                 gridsize= 100, bw = 'scott', shade = True, kernel = 'gau', shade_lowest=False,\n",
    "                 legend = True, zorder=1)\n",
    "houses.plot(ax = ax, alpha=0.2, zorder=2)\n",
    "\n",
    "#ax.get_xlim(), ax.get_ylim()\n",
    "\n",
    "plt.xlim(-73.983660088701654, -73.971813621298352)\n",
    "plt.ylim(40.692762589021697, 40.696623770978306)\n",
    "plt.show()"
   ]
  },
  {
   "cell_type": "code",
   "execution_count": null,
   "metadata": {
    "collapsed": true
   },
   "outputs": [],
   "source": []
  }
 ],
 "metadata": {
  "anaconda-cloud": {},
  "kernelspec": {
   "display_name": "Python [Root]",
   "language": "python",
   "name": "Python [Root]"
  },
  "language_info": {
   "codemirror_mode": {
    "name": "ipython",
    "version": 2
   },
   "file_extension": ".py",
   "mimetype": "text/x-python",
   "name": "python",
   "nbconvert_exporter": "python",
   "pygments_lexer": "ipython2",
   "version": "2.7.12"
  }
 },
 "nbformat": 4,
 "nbformat_minor": 0
}
