{
 "cells": [
  {
   "cell_type": "markdown",
   "metadata": {},
   "source": [
    "## 1. Load data collected this year."
   ]
  },
  {
   "cell_type": "code",
   "execution_count": 46,
   "metadata": {},
   "outputs": [],
   "source": [
    "import urllib2\n",
    "import json\n",
    "import pandas as pd\n",
    "import os\n",
    "import numpy as np\n",
    "import datetime as dt\n",
    "import sys\n",
    "import csv\n",
    "import seaborn as sns\n",
    "%matplotlib inline\n",
    "filepath = '/Users/DXM/Documents/USI_2/Wifind_Data/'"
   ]
  },
  {
   "cell_type": "code",
   "execution_count": 14,
   "metadata": {
    "collapsed": true
   },
   "outputs": [],
   "source": [
    "## Data collected by Jie\n",
    "\n",
    "columns = ['lat', 'lng', 'ssid', 'bssid', 'acc', 'time', 'level']\n",
    "startdate1 = '06/10/2017'\n",
    "enddate1 = '07/21/2017'\n",
    "device_model1 = 'ASUS_T00P'"
   ]
  },
  {
   "cell_type": "code",
   "execution_count": 15,
   "metadata": {
    "collapsed": true
   },
   "outputs": [],
   "source": [
    "url1 = \"http://wifindproject.com/wifipulling/\\\n",
    "?columns={}\\\n",
    "&startdate={}&enddate={}\\\n",
    "&device_model={}\\\n",
    "&timeformat=1\".format(\"%7C\".join(columns), startdate1, enddate1, device_model1)\n",
    "response1 = urllib2.urlopen(url1)\n",
    "data1 = response1.read()\n",
    "df1 = pd.read_json(data1)"
   ]
  },
  {
   "cell_type": "code",
   "execution_count": 22,
   "metadata": {
    "collapsed": true
   },
   "outputs": [],
   "source": [
    "df1.to_csv(filepath + 'JIE.csv', index=False)"
   ]
  },
  {
   "cell_type": "code",
   "execution_count": 17,
   "metadata": {
    "collapsed": true
   },
   "outputs": [],
   "source": [
    "## Data collected by Xiaomeng and Kai\n",
    "\n",
    "columns = ['lat', 'lng', 'ssid', 'bssid', 'acc', 'time', 'level']\n",
    "startdate2 = '06/10/2017'\n",
    "enddate2 = '07/21/2017'\n",
    "device_model2 = 'Nexus%204'"
   ]
  },
  {
   "cell_type": "code",
   "execution_count": 18,
   "metadata": {
    "collapsed": true
   },
   "outputs": [],
   "source": [
    "url2 = \"http://wifindproject.com/wifipulling/\\\n",
    "?columns={}\\\n",
    "&startdate={}&enddate={}\\\n",
    "&device_model={}\\\n",
    "&timeformat=1\".format(\"%7C\".join(columns), startdate2, enddate2, device_model2)\n",
    "response2 = urllib2.urlopen(url2)\n",
    "data2 = response2.read()\n",
    "df2 = pd.read_json(data2)"
   ]
  },
  {
   "cell_type": "code",
   "execution_count": 23,
   "metadata": {
    "collapsed": true
   },
   "outputs": [],
   "source": [
    "df2.to_csv(filepath + 'XM_K.csv', index=False)"
   ]
  },
  {
   "cell_type": "code",
   "execution_count": 39,
   "metadata": {
    "collapsed": true
   },
   "outputs": [],
   "source": [
    "## Data collected by Dongjie and Kai\n",
    "\n",
    "columns = ['lat', 'lng', 'ssid', 'bssid', 'acc', 'time', 'level']\n",
    "startdate3 = '06/10/2017'\n",
    "enddate3 = '07/21/2017'\n",
    "device_model3 = 'Moto%20G%20(4)'"
   ]
  },
  {
   "cell_type": "code",
   "execution_count": 40,
   "metadata": {
    "collapsed": true
   },
   "outputs": [],
   "source": [
    "url3 = \"http://wifindproject.com/wifipulling/\\\n",
    "?columns={}\\\n",
    "&startdate={}&enddate={}\\\n",
    "&device_model={}\\\n",
    "&timeformat=1\".format(\"%7C\".join(columns), startdate3, enddate3, device_model3)\n",
    "response3 = urllib2.urlopen(url3)\n",
    "data3 = response3.read()\n",
    "df3 = pd.read_json(data3)"
   ]
  },
  {
   "cell_type": "code",
   "execution_count": 42,
   "metadata": {
    "collapsed": true
   },
   "outputs": [],
   "source": [
    "df3.to_csv(filepath + 'DJ.csv', index=False)"
   ]
  },
  {
   "cell_type": "code",
   "execution_count": 43,
   "metadata": {
    "collapsed": true
   },
   "outputs": [],
   "source": [
    "## Data collected by Christian\n",
    "\n",
    "columns = ['lat', 'lng', 'ssid', 'bssid', 'acc', 'time', 'level']\n",
    "startdate4 = '06/10/2017'\n",
    "enddate4 = '07/21/2017'\n",
    "device_model4 = 'VS425'"
   ]
  },
  {
   "cell_type": "code",
   "execution_count": 44,
   "metadata": {
    "collapsed": true
   },
   "outputs": [],
   "source": [
    "url4 = \"http://wifindproject.com/wifipulling/\\\n",
    "?columns={}\\\n",
    "&startdate={}&enddate={}\\\n",
    "&device_model={}\\\n",
    "&timeformat=1\".format(\"%7C\".join(columns), startdate4, enddate4, device_model4)\n",
    "response4 = urllib2.urlopen(url4)\n",
    "data4 = response4.read()\n",
    "df4 = pd.read_json(data4)"
   ]
  },
  {
   "cell_type": "code",
   "execution_count": 58,
   "metadata": {
    "collapsed": true
   },
   "outputs": [],
   "source": [
    "df4.to_csv(filepath + 'C.csv', index=False)"
   ]
  },
  {
   "cell_type": "code",
   "execution_count": 57,
   "metadata": {
    "collapsed": true
   },
   "outputs": [],
   "source": [
    "result.to_csv(filepath + 'result.csv', index=False)"
   ]
  },
  {
   "cell_type": "code",
   "execution_count": 2,
   "metadata": {
    "collapsed": true
   },
   "outputs": [],
   "source": [
    "import geopandas as gpd"
   ]
  },
  {
   "cell_type": "code",
   "execution_count": 4,
   "metadata": {},
   "outputs": [
    {
     "data": {
      "text/html": [
       "<div>\n",
       "<style>\n",
       "    .dataframe thead tr:only-child th {\n",
       "        text-align: right;\n",
       "    }\n",
       "\n",
       "    .dataframe thead th {\n",
       "        text-align: left;\n",
       "    }\n",
       "\n",
       "    .dataframe tbody tr th {\n",
       "        vertical-align: top;\n",
       "    }\n",
       "</style>\n",
       "<table border=\"1\" class=\"dataframe\">\n",
       "  <thead>\n",
       "    <tr style=\"text-align: right;\">\n",
       "      <th></th>\n",
       "      <th>OBJECTID</th>\n",
       "      <th>acc</th>\n",
       "      <th>bssid</th>\n",
       "      <th>geometry</th>\n",
       "      <th>lat</th>\n",
       "      <th>level</th>\n",
       "      <th>lng</th>\n",
       "      <th>ssid</th>\n",
       "      <th>time</th>\n",
       "    </tr>\n",
       "  </thead>\n",
       "  <tbody>\n",
       "    <tr>\n",
       "      <th>0</th>\n",
       "      <td>1</td>\n",
       "      <td>20.0</td>\n",
       "      <td>84:24:8d:d6:7a:d1</td>\n",
       "      <td>POINT (-73.99044729999997 40.68677800000006)</td>\n",
       "      <td>40.686778</td>\n",
       "      <td>-69.0</td>\n",
       "      <td>-73.990447</td>\n",
       "      <td></td>\n",
       "      <td>2017-06-22</td>\n",
       "    </tr>\n",
       "    <tr>\n",
       "      <th>1</th>\n",
       "      <td>2</td>\n",
       "      <td>20.0</td>\n",
       "      <td>84:24:8d:d6:7a:d2</td>\n",
       "      <td>POINT (-73.99044729999997 40.68677800000006)</td>\n",
       "      <td>40.686778</td>\n",
       "      <td>-74.0</td>\n",
       "      <td>-73.990447</td>\n",
       "      <td></td>\n",
       "      <td>2017-06-22</td>\n",
       "    </tr>\n",
       "    <tr>\n",
       "      <th>2</th>\n",
       "      <td>3</td>\n",
       "      <td>20.0</td>\n",
       "      <td>84:24:8d:d3:cd:d0</td>\n",
       "      <td>POINT (-73.99044729999997 40.68677800000006)</td>\n",
       "      <td>40.686778</td>\n",
       "      <td>-66.0</td>\n",
       "      <td>-73.990447</td>\n",
       "      <td>transitwirelesswifi</td>\n",
       "      <td>2017-06-22</td>\n",
       "    </tr>\n",
       "    <tr>\n",
       "      <th>3</th>\n",
       "      <td>4</td>\n",
       "      <td>20.0</td>\n",
       "      <td>84:24:8d:d4:c7:40</td>\n",
       "      <td>POINT (-73.99044729999997 40.68677800000006)</td>\n",
       "      <td>40.686778</td>\n",
       "      <td>-70.0</td>\n",
       "      <td>-73.990447</td>\n",
       "      <td>transitwirelesswifi</td>\n",
       "      <td>2017-06-22</td>\n",
       "    </tr>\n",
       "    <tr>\n",
       "      <th>4</th>\n",
       "      <td>5</td>\n",
       "      <td>20.0</td>\n",
       "      <td>84:24:8d:d4:c7:42</td>\n",
       "      <td>POINT (-73.99044729999997 40.68677800000006)</td>\n",
       "      <td>40.686778</td>\n",
       "      <td>-69.0</td>\n",
       "      <td>-73.990447</td>\n",
       "      <td></td>\n",
       "      <td>2017-06-22</td>\n",
       "    </tr>\n",
       "  </tbody>\n",
       "</table>\n",
       "</div>"
      ],
      "text/plain": [
       "   OBJECTID   acc              bssid  \\\n",
       "0         1  20.0  84:24:8d:d6:7a:d1   \n",
       "1         2  20.0  84:24:8d:d6:7a:d2   \n",
       "2         3  20.0  84:24:8d:d3:cd:d0   \n",
       "3         4  20.0  84:24:8d:d4:c7:40   \n",
       "4         5  20.0  84:24:8d:d4:c7:42   \n",
       "\n",
       "                                       geometry        lat  level        lng  \\\n",
       "0  POINT (-73.99044729999997 40.68677800000006)  40.686778  -69.0 -73.990447   \n",
       "1  POINT (-73.99044729999997 40.68677800000006)  40.686778  -74.0 -73.990447   \n",
       "2  POINT (-73.99044729999997 40.68677800000006)  40.686778  -66.0 -73.990447   \n",
       "3  POINT (-73.99044729999997 40.68677800000006)  40.686778  -70.0 -73.990447   \n",
       "4  POINT (-73.99044729999997 40.68677800000006)  40.686778  -69.0 -73.990447   \n",
       "\n",
       "                  ssid        time  \n",
       "0                       2017-06-22  \n",
       "1                       2017-06-22  \n",
       "2  transitwirelesswifi  2017-06-22  \n",
       "3  transitwirelesswifi  2017-06-22  \n",
       "4                       2017-06-22  "
      ]
     },
     "execution_count": 4,
     "metadata": {},
     "output_type": "execute_result"
    }
   ],
   "source": [
    "shape_path = '/Users/DXM/Documents/USI_2/Wifind_Data/final/Export_Output_6.shp' \n",
    "ct_shape = gpd.GeoDataFrame.from_file(shape_path)\n",
    "ct_shape.head()"
   ]
  },
  {
   "cell_type": "code",
   "execution_count": 8,
   "metadata": {
    "collapsed": true
   },
   "outputs": [],
   "source": [
    "ct_shape.drop('geometry', axis=1).to_csv(filepath + 'ct_shape.csv', index=False)"
   ]
  },
  {
   "cell_type": "code",
   "execution_count": 3,
   "metadata": {},
   "outputs": [],
   "source": [
    "df = pd.read_csv(filepath +'box_plot_data.csv')"
   ]
  },
  {
   "cell_type": "code",
   "execution_count": 71,
   "metadata": {},
   "outputs": [
    {
     "data": {
      "text/html": [
       "<div>\n",
       "<style>\n",
       "    .dataframe thead tr:only-child th {\n",
       "        text-align: right;\n",
       "    }\n",
       "\n",
       "    .dataframe thead th {\n",
       "        text-align: left;\n",
       "    }\n",
       "\n",
       "    .dataframe tbody tr th {\n",
       "        vertical-align: top;\n",
       "    }\n",
       "</style>\n",
       "<table border=\"1\" class=\"dataframe\">\n",
       "  <thead>\n",
       "    <tr style=\"text-align: right;\">\n",
       "      <th></th>\n",
       "      <th>Unnamed: 0</th>\n",
       "      <th>name</th>\n",
       "      <th>GEOID</th>\n",
       "      <th>MHI</th>\n",
       "      <th>norm_open_counts</th>\n",
       "      <th>norm_non_open_counts</th>\n",
       "      <th>Public</th>\n",
       "      <th>Public_cat</th>\n",
       "      <th>predictions_open</th>\n",
       "      <th>predictions_non_open</th>\n",
       "      <th>log_norm_open_counts</th>\n",
       "      <th>log_norm_non_open_counts</th>\n",
       "      <th>log_MHI</th>\n",
       "    </tr>\n",
       "  </thead>\n",
       "  <tbody>\n",
       "    <tr>\n",
       "      <th>0</th>\n",
       "      <td>0</td>\n",
       "      <td>Public_RedHook</td>\n",
       "      <td>360470085001</td>\n",
       "      <td>10372</td>\n",
       "      <td>0.002061</td>\n",
       "      <td>0.059494</td>\n",
       "      <td>True</td>\n",
       "      <td>public</td>\n",
       "      <td>27708.517107</td>\n",
       "      <td>25875.731823</td>\n",
       "      <td>-6.184561</td>\n",
       "      <td>-2.821874</td>\n",
       "      <td>9.246865</td>\n",
       "    </tr>\n",
       "    <tr>\n",
       "      <th>1</th>\n",
       "      <td>1416</td>\n",
       "      <td>Non_Public_RedHook</td>\n",
       "      <td>360470065002</td>\n",
       "      <td>63889</td>\n",
       "      <td>0.002628</td>\n",
       "      <td>0.206307</td>\n",
       "      <td>False</td>\n",
       "      <td>non-public</td>\n",
       "      <td>27848.454422</td>\n",
       "      <td>27565.515823</td>\n",
       "      <td>-5.941486</td>\n",
       "      <td>-1.578388</td>\n",
       "      <td>11.064902</td>\n",
       "    </tr>\n",
       "    <tr>\n",
       "      <th>2</th>\n",
       "      <td>1651</td>\n",
       "      <td>Non_Public_RedHook</td>\n",
       "      <td>360470065003</td>\n",
       "      <td>66181</td>\n",
       "      <td>0.008230</td>\n",
       "      <td>0.286694</td>\n",
       "      <td>False</td>\n",
       "      <td>non-public</td>\n",
       "      <td>29230.846168</td>\n",
       "      <td>28490.746528</td>\n",
       "      <td>-4.799914</td>\n",
       "      <td>-1.249339</td>\n",
       "      <td>11.100149</td>\n",
       "    </tr>\n",
       "    <tr>\n",
       "      <th>3</th>\n",
       "      <td>1986</td>\n",
       "      <td>Non_Public_RedHook</td>\n",
       "      <td>360470065001</td>\n",
       "      <td>68750</td>\n",
       "      <td>0.013006</td>\n",
       "      <td>0.356936</td>\n",
       "      <td>False</td>\n",
       "      <td>non-public</td>\n",
       "      <td>30409.172232</td>\n",
       "      <td>29299.218800</td>\n",
       "      <td>-4.342361</td>\n",
       "      <td>-1.030198</td>\n",
       "      <td>11.138232</td>\n",
       "    </tr>\n",
       "    <tr>\n",
       "      <th>4</th>\n",
       "      <td>2447</td>\n",
       "      <td>Non_Public_RedHook</td>\n",
       "      <td>360470065004</td>\n",
       "      <td>71875</td>\n",
       "      <td>0.011200</td>\n",
       "      <td>0.304000</td>\n",
       "      <td>False</td>\n",
       "      <td>non-public</td>\n",
       "      <td>29963.590652</td>\n",
       "      <td>28689.933288</td>\n",
       "      <td>-4.491842</td>\n",
       "      <td>-1.190728</td>\n",
       "      <td>11.182684</td>\n",
       "    </tr>\n",
       "  </tbody>\n",
       "</table>\n",
       "</div>"
      ],
      "text/plain": [
       "   Unnamed: 0                name         GEOID    MHI  norm_open_counts  \\\n",
       "0           0      Public_RedHook  360470085001  10372          0.002061   \n",
       "1        1416  Non_Public_RedHook  360470065002  63889          0.002628   \n",
       "2        1651  Non_Public_RedHook  360470065003  66181          0.008230   \n",
       "3        1986  Non_Public_RedHook  360470065001  68750          0.013006   \n",
       "4        2447  Non_Public_RedHook  360470065004  71875          0.011200   \n",
       "\n",
       "   norm_non_open_counts  Public  Public_cat  predictions_open  \\\n",
       "0              0.059494    True      public      27708.517107   \n",
       "1              0.206307   False  non-public      27848.454422   \n",
       "2              0.286694   False  non-public      29230.846168   \n",
       "3              0.356936   False  non-public      30409.172232   \n",
       "4              0.304000   False  non-public      29963.590652   \n",
       "\n",
       "   predictions_non_open  log_norm_open_counts  log_norm_non_open_counts  \\\n",
       "0          25875.731823             -6.184561                 -2.821874   \n",
       "1          27565.515823             -5.941486                 -1.578388   \n",
       "2          28490.746528             -4.799914                 -1.249339   \n",
       "3          29299.218800             -4.342361                 -1.030198   \n",
       "4          28689.933288             -4.491842                 -1.190728   \n",
       "\n",
       "     log_MHI  \n",
       "0   9.246865  \n",
       "1  11.064902  \n",
       "2  11.100149  \n",
       "3  11.138232  \n",
       "4  11.182684  "
      ]
     },
     "execution_count": 71,
     "metadata": {},
     "output_type": "execute_result"
    }
   ],
   "source": [
    "df.head()"
   ]
  },
  {
   "cell_type": "code",
   "execution_count": 100,
   "metadata": {},
   "outputs": [],
   "source": [
    "df_new = df[['Public_cat', 'log_norm_open_counts', 'norm_open_counts']]"
   ]
  },
  {
   "cell_type": "code",
   "execution_count": 111,
   "metadata": {},
   "outputs": [
    {
     "name": "stderr",
     "output_type": "stream",
     "text": [
      "/Users/DXM/anaconda2/lib/python2.7/site-packages/ipykernel_launcher.py:1: SettingWithCopyWarning: \n",
      "A value is trying to be set on a copy of a slice from a DataFrame.\n",
      "Try using .loc[row_indexer,col_indexer] = value instead\n",
      "\n",
      "See the caveats in the documentation: http://pandas.pydata.org/pandas-docs/stable/indexing.html#indexing-view-versus-copy\n",
      "  \"\"\"Entry point for launching an IPython kernel.\n"
     ]
    },
    {
     "data": {
      "text/html": [
       "<div>\n",
       "<style>\n",
       "    .dataframe thead tr:only-child th {\n",
       "        text-align: right;\n",
       "    }\n",
       "\n",
       "    .dataframe thead th {\n",
       "        text-align: left;\n",
       "    }\n",
       "\n",
       "    .dataframe tbody tr th {\n",
       "        vertical-align: top;\n",
       "    }\n",
       "</style>\n",
       "<table border=\"1\" class=\"dataframe\">\n",
       "  <thead>\n",
       "    <tr style=\"text-align: right;\">\n",
       "      <th></th>\n",
       "      <th>Areas</th>\n",
       "      <th>Nomalized Counts in Log Scale</th>\n",
       "      <th>Nomalized Counts</th>\n",
       "      <th>Wi-Fi Category</th>\n",
       "    </tr>\n",
       "  </thead>\n",
       "  <tbody>\n",
       "    <tr>\n",
       "      <th>0</th>\n",
       "      <td>public</td>\n",
       "      <td>-6.184561</td>\n",
       "      <td>0.002061</td>\n",
       "      <td>Free Wi-Fi Access Points</td>\n",
       "    </tr>\n",
       "    <tr>\n",
       "      <th>1</th>\n",
       "      <td>non-public</td>\n",
       "      <td>-5.941486</td>\n",
       "      <td>0.002628</td>\n",
       "      <td>Free Wi-Fi Access Points</td>\n",
       "    </tr>\n",
       "    <tr>\n",
       "      <th>2</th>\n",
       "      <td>non-public</td>\n",
       "      <td>-4.799914</td>\n",
       "      <td>0.008230</td>\n",
       "      <td>Free Wi-Fi Access Points</td>\n",
       "    </tr>\n",
       "    <tr>\n",
       "      <th>3</th>\n",
       "      <td>non-public</td>\n",
       "      <td>-4.342361</td>\n",
       "      <td>0.013006</td>\n",
       "      <td>Free Wi-Fi Access Points</td>\n",
       "    </tr>\n",
       "    <tr>\n",
       "      <th>4</th>\n",
       "      <td>non-public</td>\n",
       "      <td>-4.491842</td>\n",
       "      <td>0.011200</td>\n",
       "      <td>Free Wi-Fi Access Points</td>\n",
       "    </tr>\n",
       "  </tbody>\n",
       "</table>\n",
       "</div>"
      ],
      "text/plain": [
       "        Areas  Nomalized Counts in Log Scale  Nomalized Counts  \\\n",
       "0      public                      -6.184561          0.002061   \n",
       "1  non-public                      -5.941486          0.002628   \n",
       "2  non-public                      -4.799914          0.008230   \n",
       "3  non-public                      -4.342361          0.013006   \n",
       "4  non-public                      -4.491842          0.011200   \n",
       "\n",
       "             Wi-Fi Category  \n",
       "0  Free Wi-Fi Access Points  \n",
       "1  Free Wi-Fi Access Points  \n",
       "2  Free Wi-Fi Access Points  \n",
       "3  Free Wi-Fi Access Points  \n",
       "4  Free Wi-Fi Access Points  "
      ]
     },
     "execution_count": 111,
     "metadata": {},
     "output_type": "execute_result"
    }
   ],
   "source": [
    "df_new['Wi-Fi Category'] = 'Free Wi-Fi Access Points'\n",
    "df_new.rename(columns={'Public_cat':'Areas','log_norm_open_counts':'Nomalized Counts in Log Scale', 'norm_open_counts': 'Nomalized Counts'},inplace=True)\n",
    "df_new.head()"
   ]
  },
  {
   "cell_type": "code",
   "execution_count": 102,
   "metadata": {
    "collapsed": true
   },
   "outputs": [],
   "source": [
    "df_nnw = df[['Public_cat', 'log_norm_non_open_counts', 'norm_non_open_counts']]"
   ]
  },
  {
   "cell_type": "code",
   "execution_count": 109,
   "metadata": {},
   "outputs": [
    {
     "name": "stderr",
     "output_type": "stream",
     "text": [
      "/Users/DXM/anaconda2/lib/python2.7/site-packages/ipykernel_launcher.py:1: SettingWithCopyWarning: \n",
      "A value is trying to be set on a copy of a slice from a DataFrame.\n",
      "Try using .loc[row_indexer,col_indexer] = value instead\n",
      "\n",
      "See the caveats in the documentation: http://pandas.pydata.org/pandas-docs/stable/indexing.html#indexing-view-versus-copy\n",
      "  \"\"\"Entry point for launching an IPython kernel.\n"
     ]
    }
   ],
   "source": [
    "df_nnw['Wi-Fi Category'] = 'Non-Free Wi-Fi Access Points'\n",
    "df_nnw.rename(columns={'Public_cat':'Areas', 'log_norm_non_open_counts':'Nomalized Counts in Log Scale','norm_non_open_counts':'Nomalized Counts'},inplace=True)"
   ]
  },
  {
   "cell_type": "code",
   "execution_count": 112,
   "metadata": {},
   "outputs": [
    {
     "data": {
      "text/html": [
       "<div>\n",
       "<style>\n",
       "    .dataframe thead tr:only-child th {\n",
       "        text-align: right;\n",
       "    }\n",
       "\n",
       "    .dataframe thead th {\n",
       "        text-align: left;\n",
       "    }\n",
       "\n",
       "    .dataframe tbody tr th {\n",
       "        vertical-align: top;\n",
       "    }\n",
       "</style>\n",
       "<table border=\"1\" class=\"dataframe\">\n",
       "  <thead>\n",
       "    <tr style=\"text-align: right;\">\n",
       "      <th></th>\n",
       "      <th>Areas</th>\n",
       "      <th>Nomalized Counts in Log Scale</th>\n",
       "      <th>Nomalized Counts</th>\n",
       "      <th>Wi-Fi Category</th>\n",
       "    </tr>\n",
       "  </thead>\n",
       "  <tbody>\n",
       "    <tr>\n",
       "      <th>0</th>\n",
       "      <td>public</td>\n",
       "      <td>-2.821874</td>\n",
       "      <td>0.059494</td>\n",
       "      <td>Non-Free Wi-Fi Access Points</td>\n",
       "    </tr>\n",
       "    <tr>\n",
       "      <th>1</th>\n",
       "      <td>non-public</td>\n",
       "      <td>-1.578388</td>\n",
       "      <td>0.206307</td>\n",
       "      <td>Non-Free Wi-Fi Access Points</td>\n",
       "    </tr>\n",
       "    <tr>\n",
       "      <th>2</th>\n",
       "      <td>non-public</td>\n",
       "      <td>-1.249339</td>\n",
       "      <td>0.286694</td>\n",
       "      <td>Non-Free Wi-Fi Access Points</td>\n",
       "    </tr>\n",
       "    <tr>\n",
       "      <th>3</th>\n",
       "      <td>non-public</td>\n",
       "      <td>-1.030198</td>\n",
       "      <td>0.356936</td>\n",
       "      <td>Non-Free Wi-Fi Access Points</td>\n",
       "    </tr>\n",
       "    <tr>\n",
       "      <th>4</th>\n",
       "      <td>non-public</td>\n",
       "      <td>-1.190728</td>\n",
       "      <td>0.304000</td>\n",
       "      <td>Non-Free Wi-Fi Access Points</td>\n",
       "    </tr>\n",
       "  </tbody>\n",
       "</table>\n",
       "</div>"
      ],
      "text/plain": [
       "        Areas  Nomalized Counts in Log Scale  Nomalized Counts  \\\n",
       "0      public                      -2.821874          0.059494   \n",
       "1  non-public                      -1.578388          0.206307   \n",
       "2  non-public                      -1.249339          0.286694   \n",
       "3  non-public                      -1.030198          0.356936   \n",
       "4  non-public                      -1.190728          0.304000   \n",
       "\n",
       "                 Wi-Fi Category  \n",
       "0  Non-Free Wi-Fi Access Points  \n",
       "1  Non-Free Wi-Fi Access Points  \n",
       "2  Non-Free Wi-Fi Access Points  \n",
       "3  Non-Free Wi-Fi Access Points  \n",
       "4  Non-Free Wi-Fi Access Points  "
      ]
     },
     "execution_count": 112,
     "metadata": {},
     "output_type": "execute_result"
    }
   ],
   "source": [
    "df_nnw.head()"
   ]
  },
  {
   "cell_type": "code",
   "execution_count": 124,
   "metadata": {},
   "outputs": [
    {
     "data": {
      "text/html": [
       "<div>\n",
       "<style>\n",
       "    .dataframe thead tr:only-child th {\n",
       "        text-align: right;\n",
       "    }\n",
       "\n",
       "    .dataframe thead th {\n",
       "        text-align: left;\n",
       "    }\n",
       "\n",
       "    .dataframe tbody tr th {\n",
       "        vertical-align: top;\n",
       "    }\n",
       "</style>\n",
       "<table border=\"1\" class=\"dataframe\">\n",
       "  <thead>\n",
       "    <tr style=\"text-align: right;\">\n",
       "      <th></th>\n",
       "      <th>Areas</th>\n",
       "      <th>Nomalized Counts in Log Scale</th>\n",
       "      <th>Nomalized Counts</th>\n",
       "      <th>Wi-Fi Category</th>\n",
       "    </tr>\n",
       "  </thead>\n",
       "  <tbody>\n",
       "    <tr>\n",
       "      <th>0</th>\n",
       "      <td>public</td>\n",
       "      <td>-6.184561</td>\n",
       "      <td>0.002061</td>\n",
       "      <td>Free Wi-Fi Access Points</td>\n",
       "    </tr>\n",
       "    <tr>\n",
       "      <th>1</th>\n",
       "      <td>non-public</td>\n",
       "      <td>-5.941486</td>\n",
       "      <td>0.002628</td>\n",
       "      <td>Free Wi-Fi Access Points</td>\n",
       "    </tr>\n",
       "    <tr>\n",
       "      <th>2</th>\n",
       "      <td>non-public</td>\n",
       "      <td>-4.799914</td>\n",
       "      <td>0.008230</td>\n",
       "      <td>Free Wi-Fi Access Points</td>\n",
       "    </tr>\n",
       "    <tr>\n",
       "      <th>3</th>\n",
       "      <td>non-public</td>\n",
       "      <td>-4.342361</td>\n",
       "      <td>0.013006</td>\n",
       "      <td>Free Wi-Fi Access Points</td>\n",
       "    </tr>\n",
       "    <tr>\n",
       "      <th>4</th>\n",
       "      <td>non-public</td>\n",
       "      <td>-4.491842</td>\n",
       "      <td>0.011200</td>\n",
       "      <td>Free Wi-Fi Access Points</td>\n",
       "    </tr>\n",
       "  </tbody>\n",
       "</table>\n",
       "</div>"
      ],
      "text/plain": [
       "        Areas  Nomalized Counts in Log Scale  Nomalized Counts  \\\n",
       "0      public                      -6.184561          0.002061   \n",
       "1  non-public                      -5.941486          0.002628   \n",
       "2  non-public                      -4.799914          0.008230   \n",
       "3  non-public                      -4.342361          0.013006   \n",
       "4  non-public                      -4.491842          0.011200   \n",
       "\n",
       "             Wi-Fi Category  \n",
       "0  Free Wi-Fi Access Points  \n",
       "1  Free Wi-Fi Access Points  \n",
       "2  Free Wi-Fi Access Points  \n",
       "3  Free Wi-Fi Access Points  \n",
       "4  Free Wi-Fi Access Points  "
      ]
     },
     "execution_count": 124,
     "metadata": {},
     "output_type": "execute_result"
    }
   ],
   "source": [
    "ddf = pd.concat([df_new, df_nnw], axis =0)\n",
    "ddf.head()"
   ]
  },
  {
   "cell_type": "code",
   "execution_count": 129,
   "metadata": {},
   "outputs": [
    {
     "data": {
      "text/plain": [
       "<matplotlib.text.Text at 0x11b8a3150>"
      ]
     },
     "execution_count": 129,
     "metadata": {},
     "output_type": "execute_result"
    },
    {
     "data": {
      "image/png": "[encoded data removed]",
      "text/plain": [
       "<matplotlib.figure.Figure at 0x11c572210>"
      ]
     },
     "metadata": {},
     "output_type": "display_data"
    }
   ],
   "source": [
    "sns.set(font_scale=1.5)\n",
    "ax = sns.factorplot(x=\"Wi-Fi Category\", y=\"Nomalized Counts in Log Scale\", hue=\"Areas\", data=ddf, size = 8, kind=\"box\")\n",
    "plt.subplots_adjust(top=0.9)\n",
    "ax.fig.suptitle('Comarison of Different Counts of Wi-Fi Access Points')"
   ]
  },
  {
   "cell_type": "code",
   "execution_count": 121,
   "metadata": {},
   "outputs": [
    {
     "data": {
      "image/png": "[encoded data removed]",
      "text/plain": [
       "<matplotlib.figure.Figure at 0x11bafbb10>"
      ]
     },
     "metadata": {},
     "output_type": "display_data"
    }
   ],
   "source": [
    "sns.set(font_scale=1.5)\n",
    "ax = sns.factorplot(x=\"Wi-Fi Category\", y=\"Nomalized Counts\", hue=\"Areas\", data=ddf, size = 8, kind=\"box\")"
   ]
  },
  {
   "cell_type": "code",
   "execution_count": 130,
   "metadata": {},
   "outputs": [
    {
     "data": {
      "text/plain": [
       "<matplotlib.text.Text at 0x11c079610>"
      ]
     },
     "execution_count": 130,
     "metadata": {},
     "output_type": "execute_result"
    },
    {
     "data": {
      "image/png": "[encoded data removed]",
      "text/plain": [
       "<matplotlib.figure.Figure at 0x11b8132d0>"
      ]
     },
     "metadata": {},
     "output_type": "display_data"
    }
   ],
   "source": [
    "sns.set(font_scale=1.5)\n",
    "ax = sns.factorplot(x=\"Areas\", y=\"Nomalized Counts\", data=df_new, size = 8, kind=\"box\")\n",
    "plt.subplots_adjust(top=0.9)\n",
    "ax.fig.suptitle('Comarison of Different Counts of Free Wi-Fi Access Points')"
   ]
  },
  {
   "cell_type": "code",
   "execution_count": 131,
   "metadata": {},
   "outputs": [
    {
     "data": {
      "text/plain": [
       "<matplotlib.text.Text at 0x11bd179d0>"
      ]
     },
     "execution_count": 131,
     "metadata": {},
     "output_type": "execute_result"
    },
    {
     "data": {
      "image/png": "[encoded data removed]",
      "text/plain": [
       "<matplotlib.figure.Figure at 0x11bc991d0>"
      ]
     },
     "metadata": {},
     "output_type": "display_data"
    }
   ],
   "source": [
    "sns.set(font_scale=1.5)\n",
    "ax = sns.factorplot(x=\"Areas\", y=\"Nomalized Counts\", data=df_nnw, size = 8, kind=\"box\")\n",
    "plt.subplots_adjust(top=0.9)\n",
    "ax.fig.suptitle('Comarison of Different Counts of Non-Free Wi-Fi Access Points')"
   ]
  },
  {
   "cell_type": "code",
   "execution_count": null,
   "metadata": {
    "collapsed": true
   },
   "outputs": [],
   "source": []
  }
 ],
 "metadata": {
  "kernelspec": {
   "display_name": "Python 2",
   "language": "python",
   "name": "python2"
  },
  "language_info": {
   "codemirror_mode": {
    "name": "ipython",
    "version": 2
   },
   "file_extension": ".py",
   "mimetype": "text/x-python",
   "name": "python",
   "nbconvert_exporter": "python",
   "pygments_lexer": "ipython2",
   "version": "2.7.13"
  }
 },
 "nbformat": 4,
 "nbformat_minor": 1
}
