{
 "cells": [
  {
   "cell_type": "markdown",
   "metadata": {},
   "source": [
    "## 1. Load data collected this year."
   ]
  },
  {
   "cell_type": "code",
   "execution_count": 1,
   "metadata": {
    "collapsed": true
   },
   "outputs": [],
   "source": [
    "import urllib2\n",
    "import json\n",
    "import pandas as pd\n",
    "import os\n",
    "import numpy as np\n",
    "import datetime as dt\n",
    "import sys\n",
    "import csv"
   ]
  },
  {
   "cell_type": "code",
   "execution_count": 2,
   "metadata": {
    "collapsed": true
   },
   "outputs": [],
   "source": [
    "## Data collected on 06/20/2017\n",
    "\n",
    "columns = ['lat', 'lng', 'ssid', 'bssid', 'acc', 'time', 'level']\n",
    "startdate1 = '06/20/2017'\n",
    "enddate1 = '06/21/2017'\n",
    "device_model = 'Nexus%204'"
   ]
  },
  {
   "cell_type": "code",
   "execution_count": 3,
   "metadata": {
    "collapsed": false
   },
   "outputs": [],
   "source": [
    "url1 = \"http://wifindproject.com/wifipulling/\\\n",
    "?columns={}\\\n",
    "&startdate={}&enddate={}\\\n",
    "&device_model={}\\\n",
    "&timeformat=1\".format(\"%7C\".join(columns), startdate1, enddate1, device_model)\n",
    "response1 = urllib2.urlopen(url1)\n",
    "data1 = response1.read()\n",
    "df1 = pd.read_json(data1)"
   ]
  },
  {
   "cell_type": "code",
   "execution_count": 4,
   "metadata": {
    "collapsed": false
   },
   "outputs": [
    {
     "data": {
      "text/plain": [
       "(2002,)"
      ]
     },
     "execution_count": 4,
     "metadata": {},
     "output_type": "execute_result"
    }
   ],
   "source": [
    "result1 = df1[df1.time <= '06-20-2017 18:00:00']\n",
    "result1.bssid.unique().shape"
   ]
  },
  {
   "cell_type": "code",
   "execution_count": 5,
   "metadata": {
    "collapsed": true
   },
   "outputs": [],
   "source": [
    "## Data collected on 07/02/2017\n",
    "\n",
    "columns = ['lat', 'lng', 'ssid', 'bssid', 'acc', 'time', 'level']\n",
    "startdate2 = '07/02/2017'\n",
    "enddate2 = '07/03/2017'\n",
    "device_model = 'Nexus%204'"
   ]
  },
  {
   "cell_type": "code",
   "execution_count": 6,
   "metadata": {
    "collapsed": true
   },
   "outputs": [],
   "source": [
    "url2 = \"http://wifindproject.com/wifipulling/\\\n",
    "?columns={}\\\n",
    "&startdate={}&enddate={}\\\n",
    "&device_model={}\\\n",
    "&timeformat=1\".format(\"%7C\".join(columns), startdate2, enddate2, device_model)\n",
    "response2 = urllib2.urlopen(url2)\n",
    "data2 = response2.read()\n",
    "df2 = pd.read_json(data2)"
   ]
  },
  {
   "cell_type": "code",
   "execution_count": 8,
   "metadata": {
    "collapsed": false
   },
   "outputs": [
    {
     "data": {
      "text/plain": [
       "(3263,)"
      ]
     },
     "execution_count": 8,
     "metadata": {},
     "output_type": "execute_result"
    }
   ],
   "source": [
    "result2 = df2[df2.time <= '07-02-2017 13:30:00']\n",
    "result2.bssid.unique().shape"
   ]
  },
  {
   "cell_type": "markdown",
   "metadata": {},
   "source": [
    "## 2. Filter the points around housing projects."
   ]
  },
  {
   "cell_type": "code",
   "execution_count": 9,
   "metadata": {
    "collapsed": false
   },
   "outputs": [],
   "source": [
    "from shapely.geometry import Point, Polygon\n",
    "import datetime as dt\n",
    "import geopandas as gpd\n",
    "from fiona.crs import from_epsg\n",
    "import pyproj\n",
    "import mplleaflet\n",
    "import folium\n",
    "import shapefile as shp\n",
    "import math\n",
    "import matplotlib.pyplot as plt\n",
    "%matplotlib inline"
   ]
  },
  {
   "cell_type": "code",
   "execution_count": 10,
   "metadata": {
    "collapsed": false
   },
   "outputs": [
    {
     "name": "stderr",
     "output_type": "stream",
     "text": [
      "/Users/DXM/anaconda/lib/python2.7/site-packages/ipykernel/__main__.py:3: SettingWithCopyWarning: \n",
      "A value is trying to be set on a copy of a slice from a DataFrame.\n",
      "Try using .loc[row_indexer,col_indexer] = value instead\n",
      "\n",
      "See the caveats in the documentation: http://pandas.pydata.org/pandas-docs/stable/indexing.html#indexing-view-versus-copy\n",
      "  app.launch_new_instance()\n",
      "/Users/DXM/anaconda/lib/python2.7/site-packages/ipykernel/__main__.py:4: SettingWithCopyWarning: \n",
      "A value is trying to be set on a copy of a slice from a DataFrame.\n",
      "Try using .loc[row_indexer,col_indexer] = value instead\n",
      "\n",
      "See the caveats in the documentation: http://pandas.pydata.org/pandas-docs/stable/indexing.html#indexing-view-versus-copy\n"
     ]
    },
    {
     "data": {
      "text/html": [
       "<div>\n",
       "<table border=\"1\" class=\"dataframe\">\n",
       "  <thead>\n",
       "    <tr style=\"text-align: right;\">\n",
       "      <th></th>\n",
       "      <th>acc</th>\n",
       "      <th>bssid</th>\n",
       "      <th>lat</th>\n",
       "      <th>level</th>\n",
       "      <th>lng</th>\n",
       "      <th>ssid</th>\n",
       "      <th>time</th>\n",
       "      <th>geo</th>\n",
       "      <th>geometry</th>\n",
       "    </tr>\n",
       "  </thead>\n",
       "  <tbody>\n",
       "    <tr>\n",
       "      <th>0</th>\n",
       "      <td>17.0</td>\n",
       "      <td>24:c9:a1:cc:af:48</td>\n",
       "      <td>40.693674</td>\n",
       "      <td>-67</td>\n",
       "      <td>-73.982557</td>\n",
       "      <td>twcwifi-passpoint</td>\n",
       "      <td>06-20-2017 16:56:05</td>\n",
       "      <td>(-73.98255674, 40.69367447)</td>\n",
       "      <td>POINT (-73.98255674000001 40.69367447)</td>\n",
       "    </tr>\n",
       "  </tbody>\n",
       "</table>\n",
       "</div>"
      ],
      "text/plain": [
       "    acc              bssid        lat  level        lng               ssid  \\\n",
       "0  17.0  24:c9:a1:cc:af:48  40.693674    -67 -73.982557  twcwifi-passpoint   \n",
       "\n",
       "                  time                          geo  \\\n",
       "0  06-20-2017 16:56:05  (-73.98255674, 40.69367447)   \n",
       "\n",
       "                                 geometry  \n",
       "0  POINT (-73.98255674000001 40.69367447)  "
      ]
     },
     "execution_count": 10,
     "metadata": {},
     "output_type": "execute_result"
    }
   ],
   "source": [
    "# Transform datasets to geometry data\n",
    "\n",
    "result1['geo'] = zip(result1.lng, result1.lat)\n",
    "result1['geometry'] = map(lambda x: Point(x), zip(result1.lng, result1.lat))\n",
    "result1.head(1)"
   ]
  },
  {
   "cell_type": "code",
   "execution_count": 11,
   "metadata": {
    "collapsed": false
   },
   "outputs": [
    {
     "data": {
      "text/html": [
       "<div>\n",
       "<table border=\"1\" class=\"dataframe\">\n",
       "  <thead>\n",
       "    <tr style=\"text-align: right;\">\n",
       "      <th></th>\n",
       "      <th>acc</th>\n",
       "      <th>bssid</th>\n",
       "      <th>lat</th>\n",
       "      <th>level</th>\n",
       "      <th>lng</th>\n",
       "      <th>ssid</th>\n",
       "      <th>time</th>\n",
       "      <th>geo</th>\n",
       "      <th>geometry</th>\n",
       "    </tr>\n",
       "  </thead>\n",
       "  <tbody>\n",
       "    <tr>\n",
       "      <th>106</th>\n",
       "      <td>14.0</td>\n",
       "      <td>d4:05:98:4c:f8:55</td>\n",
       "      <td>40.695681</td>\n",
       "      <td>-88</td>\n",
       "      <td>-73.98238</td>\n",
       "      <td>tg1672g52-5g</td>\n",
       "      <td>06-20-2017 16:57:17</td>\n",
       "      <td>(-73.98238012, 40.69568089)</td>\n",
       "      <td>POINT (-73.98238012 40.69568089)</td>\n",
       "    </tr>\n",
       "  </tbody>\n",
       "</table>\n",
       "</div>"
      ],
      "text/plain": [
       "      acc              bssid        lat  level       lng          ssid  \\\n",
       "106  14.0  d4:05:98:4c:f8:55  40.695681    -88 -73.98238  tg1672g52-5g   \n",
       "\n",
       "                    time                          geo  \\\n",
       "106  06-20-2017 16:57:17  (-73.98238012, 40.69568089)   \n",
       "\n",
       "                             geometry  \n",
       "106  POINT (-73.98238012 40.69568089)  "
      ]
     },
     "execution_count": 11,
     "metadata": {},
     "output_type": "execute_result"
    }
   ],
   "source": [
    "# Outline the range of public housing projects\n",
    "\n",
    "outline = Polygon([[-73.982483, 40.693547], [-73.982397, 40.695865], [-73.980369, 40.696199], [-73.973460, 40.695906], \\\n",
    "[-73.972880, 40.693221]])\n",
    "\n",
    "# Filter points within the range of housing projects\n",
    "\n",
    "result3 = result1[result1.geometry.apply(outline.contains)]\n",
    "result3.head(1)"
   ]
  },
  {
   "cell_type": "code",
   "execution_count": 12,
   "metadata": {
    "collapsed": false
   },
   "outputs": [
    {
     "data": {
      "text/html": [
       "<div>\n",
       "<table border=\"1\" class=\"dataframe\">\n",
       "  <thead>\n",
       "    <tr style=\"text-align: right;\">\n",
       "      <th></th>\n",
       "      <th>acc</th>\n",
       "      <th>bssid</th>\n",
       "      <th>lat</th>\n",
       "      <th>level</th>\n",
       "      <th>lng</th>\n",
       "      <th>ssid</th>\n",
       "      <th>time</th>\n",
       "      <th>geo</th>\n",
       "      <th>geometry</th>\n",
       "    </tr>\n",
       "  </thead>\n",
       "  <tbody>\n",
       "    <tr>\n",
       "      <th>0</th>\n",
       "      <td>16</td>\n",
       "      <td>c4:10:8a:1d:a8:48</td>\n",
       "      <td>40.690576</td>\n",
       "      <td>-78</td>\n",
       "      <td>-73.978865</td>\n",
       "      <td>downtownbrooklynwifi_fon</td>\n",
       "      <td>07-02-2017 12:14:15</td>\n",
       "      <td>(-73.97886496, 40.690576)</td>\n",
       "      <td>POINT (-73.97886496 40.690576)</td>\n",
       "    </tr>\n",
       "  </tbody>\n",
       "</table>\n",
       "</div>"
      ],
      "text/plain": [
       "   acc              bssid        lat  level        lng  \\\n",
       "0   16  c4:10:8a:1d:a8:48  40.690576    -78 -73.978865   \n",
       "\n",
       "                       ssid                 time                        geo  \\\n",
       "0  downtownbrooklynwifi_fon  07-02-2017 12:14:15  (-73.97886496, 40.690576)   \n",
       "\n",
       "                         geometry  \n",
       "0  POINT (-73.97886496 40.690576)  "
      ]
     },
     "execution_count": 12,
     "metadata": {},
     "output_type": "execute_result"
    }
   ],
   "source": [
    "result2['geo'] = zip(result2.lng, result2.lat)\n",
    "result2['geometry'] = map(lambda x: Point(x), zip(result2.lng, result2.lat))\n",
    "result2.head(1)"
   ]
  },
  {
   "cell_type": "code",
   "execution_count": 48,
   "metadata": {
    "collapsed": false
   },
   "outputs": [],
   "source": [
    "frames = [result2, result3]\n",
    "df = pd.concat(frames)"
   ]
  },
  {
   "cell_type": "code",
   "execution_count": 59,
   "metadata": {
    "collapsed": true
   },
   "outputs": [],
   "source": [
    "# groupby geo, unique bssid\n",
    "access_count = df.groupby(df.geo).apply(lambda x: len(x.bssid.unique()))\n",
    "access_bssidList = df.groupby(df.geo).apply(lambda x: list(x.bssid.unique()))\n",
    "df = pd.DataFrame(map(lambda x: Point(x), access_count.index), columns=['geometry'])\n",
    "df['unique_bssid_count'] = access_count.values\n",
    "df['unique_bssid_list'] = access_bssidList.values"
   ]
  },
  {
   "cell_type": "code",
   "execution_count": 67,
   "metadata": {
    "collapsed": false
   },
   "outputs": [],
   "source": [
    "#crs\n",
    "df= gpd.GeoDataFrame(df)\n",
    "df.crs = from_epsg(4326)\n",
    "df.to_crs(epsg=2263, inplace=True)\n",
    "df.to_pickle('unique_bssid.p')"
   ]
  },
  {
   "cell_type": "markdown",
   "metadata": {},
   "source": [
    "## 3. Generate grid containing unique 'bssid'."
   ]
  },
  {
   "cell_type": "code",
   "execution_count": 68,
   "metadata": {
    "collapsed": false
   },
   "outputs": [],
   "source": [
    "cell_length = 25 # usft\n",
    "delete_empty_cell = True\n",
    "\n",
    "# grid boundry\n",
    "all_x = map(lambda p: p.x, df.geometry)\n",
    "all_y = map(lambda p: p.y, df.geometry)\n",
    "minx, maxx, miny, maxy = min(all_x), max(all_x), min(all_y), max(all_y) \n",
    "\n",
    "# grid length\n",
    "dx = cell_length\n",
    "dy = cell_length\n",
    "nx = int(math.ceil(abs(maxx - minx)/dx))\n",
    "ny = int(math.ceil(abs(maxy - miny)/dy))\n",
    "\n",
    "# grid plotting\n",
    "w = shp.Writer(shp.POLYGON)\n",
    "w.autoBalance = 1\n",
    "w.field(\"ID\")\n",
    "id=0\n",
    "for i in range(ny):\n",
    "    for j in range(nx):\n",
    "        id+=1\n",
    "        vertices = []\n",
    "        parts = []\n",
    "        vertices.append([min(minx+dx*j,maxx),max(maxy-dy*i,miny)])\n",
    "        vertices.append([min(minx+dx*(j+1),maxx),max(maxy-dy*i,miny)])\n",
    "        vertices.append([min(minx+dx*(j+1),maxx),max(maxy-dy*(i+1),miny)])\n",
    "        vertices.append([min(minx+dx*j,maxx),max(maxy-dy*(i+1),miny)])\n",
    "        parts.append(vertices)\n",
    "        w.poly(parts)\n",
    "        w.record(id)\n",
    "w.save('polygon_grid')"
   ]
  },
  {
   "cell_type": "code",
   "execution_count": 70,
   "metadata": {
    "collapsed": true
   },
   "outputs": [],
   "source": [
    "# read data: TBD\n",
    "grid = gpd.read_file('./polygon_grid.shp')\n",
    "grid.crs = from_epsg(2263)\n",
    "uni_bssid = pd.read_pickle(\"./unique_bssid.p\")\n",
    "uni_bssid = gpd.GeoDataFrame(uni_bssid)\n",
    "uni_bssid.crs = from_epsg(2263)\n",
    "\n",
    "# geo points in which cell?\n",
    "PointInPoly = gpd.sjoin(uni_bssid, grid, how='left', op='intersects')\n",
    "PointInPoly.dropna(subset=['ID'], inplace=True)"
   ]
  },
  {
   "cell_type": "code",
   "execution_count": 93,
   "metadata": {
    "collapsed": false
   },
   "outputs": [],
   "source": [
    "# groupby cell.ID to get list of bssid (with duplications) for each cell, then calculate length of unique bssid \"uni\"\n",
    "grouped = PointInPoly.groupby('ID').apply(lambda x: reduce(lambda x,y: x+y, x.unique_bssid_list))\n",
    "bssidInPoly = pd.DataFrame(grouped, columns=['all_bssid_list'])\n",
    "bssidInPoly['unique_bssid_list'] = map(lambda x: set(x), grouped)\n",
    "bssidInPoly['cum'] = map(lambda x: len(x), grouped)\n",
    "bssidInPoly['uni'] = map(lambda x: len(set(x)), grouped)\n",
    "bssidInPoly['ID'] = bssidInPoly.index\n",
    "bssidInPoly.reset_index(drop=True, inplace=True)\n",
    "\n",
    "# merge grid and bssidInPoly\n",
    "grid_bssid = pd.merge(grid, bssidInPoly, how='left', on='ID')\n",
    "grid_bssid.to_crs(epsg=2263, inplace=True)\n",
    "if not delete_empty_cell: \n",
    "    grid_bssid.uni.fillna(inplace=True, value=0)\n",
    "    \n",
    "# Data for Plot\n",
    "grid_plot = grid_bssid.loc[:, ['ID', 'uni', 'geometry']]\n",
    "grid_plot.dropna(subset=['uni'], inplace=True) "
   ]
  },
  {
   "cell_type": "code",
   "execution_count": 92,
   "metadata": {
    "collapsed": false
   },
   "outputs": [],
   "source": [
    "grid_plot.to_file('all_grid.shp')"
   ]
  },
  {
   "cell_type": "markdown",
   "metadata": {},
   "source": [
    "## 4. Generate grid containing unique 'bssid' for free wifi."
   ]
  },
  {
   "cell_type": "code",
   "execution_count": 97,
   "metadata": {
    "collapsed": false
   },
   "outputs": [
    {
     "data": {
      "text/plain": [
       "array([u'downtownbrooklynwifi_fon', u'linknyc free wi-fi'], dtype=object)"
      ]
     },
     "execution_count": 97,
     "metadata": {},
     "output_type": "execute_result"
    }
   ],
   "source": [
    "free_wifi=['#flatiron free wifi', 'freewifibysurface','bryantpark.org', 'downtownbrooklynwifi_fon',\n",
    "'linknyc free wi-fi', 'metrotech','usp park wifi', 'red hook wifi']\n",
    "\n",
    "frames = [result2, result3]\n",
    "df1 = pd.concat(frames)\n",
    "\n",
    "free = df1[df1.ssid.isin(free_wifi)]\n",
    "free.ssid.unique()"
   ]
  },
  {
   "cell_type": "code",
   "execution_count": 99,
   "metadata": {
    "collapsed": false
   },
   "outputs": [],
   "source": [
    "# groupby geo, unique bssid\n",
    "free_access_count = free.groupby(free.geo).apply(lambda x: len(x.bssid.unique()))\n",
    "free_access_bssidList = free.groupby(free.geo).apply(lambda x: list(x.bssid.unique()))\n",
    "free = pd.DataFrame(map(lambda x: Point(x), free_access_count.index), columns=['geometry'])\n",
    "free['free_unique_bssid_count'] = free_access_count.values\n",
    "free['free_unique_bssid_list'] = free_access_bssidList.values"
   ]
  },
  {
   "cell_type": "code",
   "execution_count": 101,
   "metadata": {
    "collapsed": true
   },
   "outputs": [],
   "source": [
    "#crs\n",
    "free = gpd.GeoDataFrame(free)\n",
    "free.crs = from_epsg(4326)\n",
    "free.to_crs(epsg=2263, inplace=True)\n",
    "free.to_pickle('free_unique_bssid.p')"
   ]
  },
  {
   "cell_type": "code",
   "execution_count": 102,
   "metadata": {
    "collapsed": true
   },
   "outputs": [],
   "source": [
    "# read data: TBD\n",
    "grid = gpd.read_file('./polygon_grid.shp')\n",
    "grid.crs = from_epsg(2263)\n",
    "free_uni_bssid = pd.read_pickle(\"./free_unique_bssid.p\")\n",
    "free_uni_bssid = gpd.GeoDataFrame(free_uni_bssid)\n",
    "free_uni_bssid.crs = from_epsg(2263)\n",
    "\n",
    "# geo points in which cell?\n",
    "FreePointInPoly = gpd.sjoin(free_uni_bssid, grid, how='left', op='intersects')\n",
    "FreePointInPoly.dropna(subset=['ID'], inplace=True)"
   ]
  },
  {
   "cell_type": "code",
   "execution_count": 103,
   "metadata": {
    "collapsed": true
   },
   "outputs": [],
   "source": [
    "# groupby cell.ID to get list of bssid (with duplications) for each cell, then calculate length of unique bssid \"uni\"\n",
    "grouped = FreePointInPoly.groupby('ID').apply(lambda x: reduce(lambda x,y: x+y, x.free_unique_bssid_list))\n",
    "free_bssidInPoly = pd.DataFrame(grouped, columns=['free_bssid_list'])\n",
    "free_bssidInPoly['free_unique_bssid_list'] = map(lambda x: set(x), grouped)\n",
    "free_bssidInPoly['cum'] = map(lambda x: len(x), grouped)\n",
    "free_bssidInPoly['uni'] = map(lambda x: len(set(x)), grouped)\n",
    "free_bssidInPoly['ID'] = free_bssidInPoly.index\n",
    "free_bssidInPoly.reset_index(drop=True, inplace=True)\n",
    "\n",
    "# merge grid and bssidInPoly\n",
    "free_grid_bssid = pd.merge(grid, free_bssidInPoly, how='left', on='ID')\n",
    "free_grid_bssid.to_crs(epsg=2263, inplace=True)\n",
    "if not delete_empty_cell: \n",
    "    free_grid_bssid.uni.fillna(inplace=True, value=0)\n",
    "    \n",
    "# Data for Plot\n",
    "free_grid_plot = free_grid_bssid.loc[:, ['ID', 'uni', 'geometry']]\n",
    "free_grid_plot.dropna(subset=['uni'], inplace=True) \n"
   ]
  },
  {
   "cell_type": "code",
   "execution_count": 104,
   "metadata": {
    "collapsed": true
   },
   "outputs": [],
   "source": [
    "free_grid_plot.to_file('free_grid.shp')"
   ]
  },
  {
   "cell_type": "code",
   "execution_count": 34,
   "metadata": {
    "collapsed": true
   },
   "outputs": [],
   "source": []
  },
  {
   "cell_type": "code",
   "execution_count": null,
   "metadata": {
    "collapsed": true
   },
   "outputs": [],
   "source": []
  }
 ],
 "metadata": {
  "anaconda-cloud": {},
  "kernelspec": {
   "display_name": "Python [Root]",
   "language": "python",
   "name": "Python [Root]"
  },
  "language_info": {
   "codemirror_mode": {
    "name": "ipython",
    "version": 2
   },
   "file_extension": ".py",
   "mimetype": "text/x-python",
   "name": "python",
   "nbconvert_exporter": "python",
   "pygments_lexer": "ipython2",
   "version": "2.7.12"
  }
 },
 "nbformat": 4,
 "nbformat_minor": 0
}
