{
 "cells": [
  {
   "cell_type": "markdown",
   "metadata": {},
   "source": [
    "# 01 Wifind for Public Housing Projects\n",
    "---\n",
    "### Xiaomeng Dong"
   ]
  },
  {
   "cell_type": "code",
   "execution_count": 2,
   "metadata": {
    "collapsed": true
   },
   "outputs": [],
   "source": [
    "import urllib2\n",
    "import json\n",
    "import pandas as pd\n",
    "import os\n",
    "import numpy as np\n",
    "import datetime as dt"
   ]
  },
  {
   "cell_type": "markdown",
   "metadata": {},
   "source": [
    "## Functions handling datetime\n",
    "---"
   ]
  },
  {
   "cell_type": "code",
   "execution_count": 3,
   "metadata": {
    "collapsed": true
   },
   "outputs": [],
   "source": [
    "def check(start_date, end_date):\n",
    "    def checkdate(stamp):\n",
    "        d = dt.datetime.fromtimestamp(stamp/1000.)\n",
    "        if d >= start_date and d <= end_date:\n",
    "            return True\n",
    "        else:\n",
    "            return False\n",
    "    return checkdate"
   ]
  },
  {
   "cell_type": "code",
   "execution_count": 4,
   "metadata": {
    "collapsed": true
   },
   "outputs": [],
   "source": [
    "def todt(stamp):\n",
    "    return dt.datetime.fromtimestamp(stamp/1000.)"
   ]
  },
  {
   "cell_type": "markdown",
   "metadata": {},
   "source": [
    "## 1. Load wifi data collected on 06/15/2017\n",
    "---"
   ]
  },
  {
   "cell_type": "code",
   "execution_count": 5,
   "metadata": {
    "collapsed": false
   },
   "outputs": [],
   "source": [
    "df1 = pd.read_csv('https://raw.githubusercontent.com/xd515/Wifind_file/master/dxm10000.csv')"
   ]
  },
  {
   "cell_type": "code",
   "execution_count": 6,
   "metadata": {
    "collapsed": false
   },
   "outputs": [
    {
     "data": {
      "text/plain": [
       "8993"
      ]
     },
     "execution_count": 6,
     "metadata": {},
     "output_type": "execute_result"
    }
   ],
   "source": [
    "start_date1 = dt.datetime(2017,6,15,15,0,0)\n",
    "end_date1 = dt.datetime(2017,6,15,17,0,0)\n",
    "np.sum(df1.time.apply(check(start_date1, end_date1)))"
   ]
  },
  {
   "cell_type": "code",
   "execution_count": 7,
   "metadata": {
    "collapsed": false,
    "scrolled": true
   },
   "outputs": [
    {
     "data": {
      "text/html": [
       "<div>\n",
       "<table border=\"1\" class=\"dataframe\">\n",
       "  <thead>\n",
       "    <tr style=\"text-align: right;\">\n",
       "      <th></th>\n",
       "      <th>idx</th>\n",
       "      <th>lat</th>\n",
       "      <th>lng</th>\n",
       "      <th>acc</th>\n",
       "      <th>altitude</th>\n",
       "      <th>time</th>\n",
       "      <th>device_mac</th>\n",
       "      <th>app_version</th>\n",
       "      <th>droid_version</th>\n",
       "      <th>device_model</th>\n",
       "      <th>ssid</th>\n",
       "      <th>bssid</th>\n",
       "      <th>caps</th>\n",
       "      <th>level</th>\n",
       "      <th>freq</th>\n",
       "    </tr>\n",
       "  </thead>\n",
       "  <tbody>\n",
       "    <tr>\n",
       "      <th>0</th>\n",
       "      <td>56800549</td>\n",
       "      <td>40.693509</td>\n",
       "      <td>-73.981415</td>\n",
       "      <td>16.0</td>\n",
       "      <td>-11.0</td>\n",
       "      <td>1497558896000</td>\n",
       "      <td>b883c7e343eb726c</td>\n",
       "      <td>0.3.3</td>\n",
       "      <td>5.1.1</td>\n",
       "      <td>Nexus 4</td>\n",
       "      <td>downtownbrooklynwifi_fon</td>\n",
       "      <td>c4:10:8a:22:f4:f8</td>\n",
       "      <td>[ess]</td>\n",
       "      <td>-58</td>\n",
       "      <td>2427</td>\n",
       "    </tr>\n",
       "  </tbody>\n",
       "</table>\n",
       "</div>"
      ],
      "text/plain": [
       "        idx        lat        lng   acc  altitude           time  \\\n",
       "0  56800549  40.693509 -73.981415  16.0     -11.0  1497558896000   \n",
       "\n",
       "         device_mac app_version droid_version device_model  \\\n",
       "0  b883c7e343eb726c       0.3.3         5.1.1      Nexus 4   \n",
       "\n",
       "                       ssid              bssid   caps  level  freq  \n",
       "0  downtownbrooklynwifi_fon  c4:10:8a:22:f4:f8  [ess]    -58  2427  "
      ]
     },
     "execution_count": 7,
     "metadata": {},
     "output_type": "execute_result"
    }
   ],
   "source": [
    "df_dxm1 = df1[df1.time.apply(check(start_date1, end_date1))]\n",
    "df_dxm1.reset_index(drop=True, inplace=True)\n",
    "df_dxm1.head(1)"
   ]
  },
  {
   "cell_type": "code",
   "execution_count": 40,
   "metadata": {
    "collapsed": true
   },
   "outputs": [],
   "source": [
    "filepath = '/Users/DXM/Documents/USI_2/Wifind_Data/'\n",
    "df_dxm1.to_csv(filepath + '20170615_XM.csv', index=False)"
   ]
  },
  {
   "cell_type": "markdown",
   "metadata": {},
   "source": [
    "## 2. Load wifi data collected on 06/20/2017\n",
    "---"
   ]
  },
  {
   "cell_type": "code",
   "execution_count": 8,
   "metadata": {
    "collapsed": false
   },
   "outputs": [],
   "source": [
    "df2 = pd.read_csv('https://raw.githubusercontent.com/xd515/Wifind_file/master/dxm30000.csv')"
   ]
  },
  {
   "cell_type": "code",
   "execution_count": 9,
   "metadata": {
    "collapsed": false
   },
   "outputs": [
    {
     "data": {
      "text/plain": [
       "25127"
      ]
     },
     "execution_count": 9,
     "metadata": {},
     "output_type": "execute_result"
    }
   ],
   "source": [
    "start_date2 = dt.datetime(2017,6,20,16,0,0)\n",
    "end_date2 = dt.datetime(2017,6,20,21,0,0)\n",
    "np.sum(df2.time.apply(check(start_date2, end_date2)))"
   ]
  },
  {
   "cell_type": "code",
   "execution_count": 10,
   "metadata": {
    "collapsed": false
   },
   "outputs": [
    {
     "data": {
      "text/html": [
       "<div>\n",
       "<table border=\"1\" class=\"dataframe\">\n",
       "  <thead>\n",
       "    <tr style=\"text-align: right;\">\n",
       "      <th></th>\n",
       "      <th>idx</th>\n",
       "      <th>lat</th>\n",
       "      <th>lng</th>\n",
       "      <th>acc</th>\n",
       "      <th>altitude</th>\n",
       "      <th>time</th>\n",
       "      <th>device_mac</th>\n",
       "      <th>app_version</th>\n",
       "      <th>droid_version</th>\n",
       "      <th>device_model</th>\n",
       "      <th>ssid</th>\n",
       "      <th>bssid</th>\n",
       "      <th>caps</th>\n",
       "      <th>level</th>\n",
       "      <th>freq</th>\n",
       "    </tr>\n",
       "  </thead>\n",
       "  <tbody>\n",
       "    <tr>\n",
       "      <th>0</th>\n",
       "      <td>56825737</td>\n",
       "      <td>40.691534</td>\n",
       "      <td>-73.985218</td>\n",
       "      <td>19.835</td>\n",
       "      <td>0.0</td>\n",
       "      <td>1498005108227</td>\n",
       "      <td>b883c7e343eb726c</td>\n",
       "      <td>0.3.3</td>\n",
       "      <td>5.1.1</td>\n",
       "      <td>Nexus 4</td>\n",
       "      <td>fios-23s</td>\n",
       "      <td>48:5d:36:b6:c2:86</td>\n",
       "      <td>[wpa2-psk-ccmp][wps][ess]</td>\n",
       "      <td>-49</td>\n",
       "      <td>2437</td>\n",
       "    </tr>\n",
       "  </tbody>\n",
       "</table>\n",
       "</div>"
      ],
      "text/plain": [
       "        idx        lat        lng     acc  altitude           time  \\\n",
       "0  56825737  40.691534 -73.985218  19.835       0.0  1498005108227   \n",
       "\n",
       "         device_mac app_version droid_version device_model      ssid  \\\n",
       "0  b883c7e343eb726c       0.3.3         5.1.1      Nexus 4  fios-23s   \n",
       "\n",
       "               bssid                       caps  level  freq  \n",
       "0  48:5d:36:b6:c2:86  [wpa2-psk-ccmp][wps][ess]    -49  2437  "
      ]
     },
     "execution_count": 10,
     "metadata": {},
     "output_type": "execute_result"
    }
   ],
   "source": [
    "df_dxm2 = df2[df2.time.apply(check(start_date2, end_date2))]\n",
    "df_dxm2.reset_index(drop=True, inplace=True)\n",
    "df_dxm2.head(1)"
   ]
  },
  {
   "cell_type": "code",
   "execution_count": 36,
   "metadata": {
    "collapsed": true
   },
   "outputs": [],
   "source": [
    "filepath = '/Users/DXM/Documents/USI_2/Wifind_Data/'\n",
    "df_dxm2.to_csv(filepath + '20170620_XM.csv', index=False)"
   ]
  },
  {
   "cell_type": "code",
   "execution_count": 11,
   "metadata": {
    "collapsed": false
   },
   "outputs": [
    {
     "data": {
      "text/html": [
       "<div>\n",
       "<table border=\"1\" class=\"dataframe\">\n",
       "  <thead>\n",
       "    <tr style=\"text-align: right;\">\n",
       "      <th></th>\n",
       "      <th>idx</th>\n",
       "      <th>lat</th>\n",
       "      <th>lng</th>\n",
       "      <th>acc</th>\n",
       "      <th>altitude</th>\n",
       "      <th>time</th>\n",
       "      <th>device_mac</th>\n",
       "      <th>app_version</th>\n",
       "      <th>droid_version</th>\n",
       "      <th>device_model</th>\n",
       "      <th>ssid</th>\n",
       "      <th>bssid</th>\n",
       "      <th>caps</th>\n",
       "      <th>level</th>\n",
       "      <th>freq</th>\n",
       "    </tr>\n",
       "  </thead>\n",
       "  <tbody>\n",
       "    <tr>\n",
       "      <th>0</th>\n",
       "      <td>56800549</td>\n",
       "      <td>40.693509</td>\n",
       "      <td>-73.981415</td>\n",
       "      <td>16.0</td>\n",
       "      <td>-11.0</td>\n",
       "      <td>1497558896000</td>\n",
       "      <td>b883c7e343eb726c</td>\n",
       "      <td>0.3.3</td>\n",
       "      <td>5.1.1</td>\n",
       "      <td>Nexus 4</td>\n",
       "      <td>downtownbrooklynwifi_fon</td>\n",
       "      <td>c4:10:8a:22:f4:f8</td>\n",
       "      <td>[ess]</td>\n",
       "      <td>-58</td>\n",
       "      <td>2427</td>\n",
       "    </tr>\n",
       "  </tbody>\n",
       "</table>\n",
       "</div>"
      ],
      "text/plain": [
       "        idx        lat        lng   acc  altitude           time  \\\n",
       "0  56800549  40.693509 -73.981415  16.0     -11.0  1497558896000   \n",
       "\n",
       "         device_mac app_version droid_version device_model  \\\n",
       "0  b883c7e343eb726c       0.3.3         5.1.1      Nexus 4   \n",
       "\n",
       "                       ssid              bssid   caps  level  freq  \n",
       "0  downtownbrooklynwifi_fon  c4:10:8a:22:f4:f8  [ess]    -58  2427  "
      ]
     },
     "execution_count": 11,
     "metadata": {},
     "output_type": "execute_result"
    }
   ],
   "source": [
    "frames1 = [df_dxm1, df_dxm2]\n",
    "result1 = pd.concat(frames1)\n",
    "result1.head(1)"
   ]
  },
  {
   "cell_type": "code",
   "execution_count": 12,
   "metadata": {
    "collapsed": true
   },
   "outputs": [],
   "source": [
    "filepath = '/Users/DXM/Documents/USI_2/Wifind_Data/'\n",
    "result1.to_csv(filepath + 'dxm.csv', index=False)"
   ]
  },
  {
   "cell_type": "markdown",
   "metadata": {
    "collapsed": true
   },
   "source": [
    "## 3. Load wifi data collected on 06/22/2017\n",
    "---"
   ]
  },
  {
   "cell_type": "code",
   "execution_count": 13,
   "metadata": {
    "collapsed": false
   },
   "outputs": [],
   "source": [
    "df3 = pd.read_csv('https://raw.githubusercontent.com/xd515/Wifind_file/master/zj1.csv')"
   ]
  },
  {
   "cell_type": "code",
   "execution_count": 14,
   "metadata": {
    "collapsed": false
   },
   "outputs": [
    {
     "data": {
      "text/plain": [
       "1429"
      ]
     },
     "execution_count": 14,
     "metadata": {},
     "output_type": "execute_result"
    }
   ],
   "source": [
    "start_date3 = dt.datetime(2017,6,22,16,0,0)\n",
    "end_date3 = dt.datetime(2017,6,22,18,0,0)\n",
    "np.sum(df3.time.apply(check(start_date3, end_date3)))"
   ]
  },
  {
   "cell_type": "code",
   "execution_count": 15,
   "metadata": {
    "collapsed": true
   },
   "outputs": [],
   "source": [
    "df4 = pd.read_csv('https://raw.githubusercontent.com/xd515/Wifind_file/master/zj2.csv')"
   ]
  },
  {
   "cell_type": "code",
   "execution_count": 16,
   "metadata": {
    "collapsed": false
   },
   "outputs": [
    {
     "data": {
      "text/plain": [
       "5029"
      ]
     },
     "execution_count": 16,
     "metadata": {},
     "output_type": "execute_result"
    }
   ],
   "source": [
    "start_date4 = dt.datetime(2017,6,22,16,0,0)\n",
    "end_date4 = dt.datetime(2017,6,22,18,0,0)\n",
    "np.sum(df4.time.apply(check(start_date4, end_date4)))"
   ]
  },
  {
   "cell_type": "code",
   "execution_count": 17,
   "metadata": {
    "collapsed": false
   },
   "outputs": [],
   "source": [
    "df_zj1 = df3[df3.time.apply(check(start_date3, end_date3))]\n",
    "df_zj1.reset_index(drop=True, inplace=True)\n",
    "df_zj2 = df4[df4.time.apply(check(start_date4, end_date4))]\n",
    "df_zj2.reset_index(drop=True, inplace=True)"
   ]
  },
  {
   "cell_type": "code",
   "execution_count": 18,
   "metadata": {
    "collapsed": false
   },
   "outputs": [
    {
     "data": {
      "text/html": [
       "<div>\n",
       "<table border=\"1\" class=\"dataframe\">\n",
       "  <thead>\n",
       "    <tr style=\"text-align: right;\">\n",
       "      <th></th>\n",
       "      <th>idx</th>\n",
       "      <th>lat</th>\n",
       "      <th>lng</th>\n",
       "      <th>acc</th>\n",
       "      <th>altitude</th>\n",
       "      <th>time</th>\n",
       "      <th>device_mac</th>\n",
       "      <th>app_version</th>\n",
       "      <th>droid_version</th>\n",
       "      <th>device_model</th>\n",
       "      <th>ssid</th>\n",
       "      <th>bssid</th>\n",
       "      <th>caps</th>\n",
       "      <th>level</th>\n",
       "      <th>freq</th>\n",
       "    </tr>\n",
       "  </thead>\n",
       "  <tbody>\n",
       "    <tr>\n",
       "      <th>0</th>\n",
       "      <td>57029357</td>\n",
       "      <td>40.675183</td>\n",
       "      <td>-74.006922</td>\n",
       "      <td>22.328</td>\n",
       "      <td>0.0</td>\n",
       "      <td>1498166973881</td>\n",
       "      <td>300dd87905419eba</td>\n",
       "      <td>0.3.3</td>\n",
       "      <td>5</td>\n",
       "      <td>ASUS_T00P</td>\n",
       "      <td>jies iphone</td>\n",
       "      <td>7e:50:49:61:cf:a2</td>\n",
       "      <td>[wpa2-psk-ccmp][ess]</td>\n",
       "      <td>-21</td>\n",
       "      <td>2437</td>\n",
       "    </tr>\n",
       "  </tbody>\n",
       "</table>\n",
       "</div>"
      ],
      "text/plain": [
       "        idx        lat        lng     acc  altitude           time  \\\n",
       "0  57029357  40.675183 -74.006922  22.328       0.0  1498166973881   \n",
       "\n",
       "         device_mac app_version droid_version device_model         ssid  \\\n",
       "0  300dd87905419eba       0.3.3             5    ASUS_T00P  jies iphone   \n",
       "\n",
       "               bssid                  caps  level  freq  \n",
       "0  7e:50:49:61:cf:a2  [wpa2-psk-ccmp][ess]    -21  2437  "
      ]
     },
     "execution_count": 18,
     "metadata": {},
     "output_type": "execute_result"
    }
   ],
   "source": [
    "frames2 = [df_zj1, df_zj2]\n",
    "result2 = pd.concat(frames2)\n",
    "result2.head(1)"
   ]
  },
  {
   "cell_type": "code",
   "execution_count": 31,
   "metadata": {
    "collapsed": true
   },
   "outputs": [],
   "source": [
    "filepath = '/Users/DXM/Documents/USI_2/Wifind_Data/'\n",
    "result2.to_csv(filepath + 'zj.csv', index=False)"
   ]
  },
  {
   "cell_type": "markdown",
   "metadata": {
    "collapsed": true
   },
   "source": [
    "## 4. Find unique points of all and the median strength of free wifi\n",
    "---"
   ]
  },
  {
   "cell_type": "code",
   "execution_count": 21,
   "metadata": {
    "collapsed": true
   },
   "outputs": [],
   "source": [
    "import geopandas as gpd\n",
    "import pandas as pd\n",
    "import os"
   ]
  },
  {
   "cell_type": "code",
   "execution_count": 24,
   "metadata": {
    "collapsed": false
   },
   "outputs": [
    {
     "data": {
      "text/html": [
       "<div>\n",
       "<table border=\"1\" class=\"dataframe\">\n",
       "  <thead>\n",
       "    <tr style=\"text-align: right;\">\n",
       "      <th></th>\n",
       "      <th>OBJECTID</th>\n",
       "      <th>idx</th>\n",
       "      <th>lat</th>\n",
       "      <th>lng</th>\n",
       "      <th>acc</th>\n",
       "      <th>altitude</th>\n",
       "      <th>time</th>\n",
       "      <th>device_mac</th>\n",
       "      <th>app_versio</th>\n",
       "      <th>droid_vers</th>\n",
       "      <th>device_mod</th>\n",
       "      <th>ssid</th>\n",
       "      <th>bssid</th>\n",
       "      <th>caps</th>\n",
       "      <th>level</th>\n",
       "      <th>freq</th>\n",
       "      <th>geometry</th>\n",
       "    </tr>\n",
       "  </thead>\n",
       "  <tbody>\n",
       "    <tr>\n",
       "      <th>0</th>\n",
       "      <td>1</td>\n",
       "      <td>56800549</td>\n",
       "      <td>40.693509</td>\n",
       "      <td>-73.981415</td>\n",
       "      <td>16.0</td>\n",
       "      <td>-11.0</td>\n",
       "      <td>1.497559e+12</td>\n",
       "      <td>b883c7e343eb726c</td>\n",
       "      <td>2000-03-03</td>\n",
       "      <td>2001-05-01</td>\n",
       "      <td>Nexus 4</td>\n",
       "      <td>downtownbrooklynwifi_fon</td>\n",
       "      <td>c4:10:8a:22:f4:f8</td>\n",
       "      <td>[ess]</td>\n",
       "      <td>-58</td>\n",
       "      <td>2427</td>\n",
       "      <td>POINT (-73.98141451999999 40.69350921000006)</td>\n",
       "    </tr>\n",
       "  </tbody>\n",
       "</table>\n",
       "</div>"
      ],
      "text/plain": [
       "   OBJECTID       idx        lat        lng   acc  altitude          time  \\\n",
       "0         1  56800549  40.693509 -73.981415  16.0     -11.0  1.497559e+12   \n",
       "\n",
       "         device_mac  app_versio  droid_vers device_mod  \\\n",
       "0  b883c7e343eb726c  2000-03-03  2001-05-01    Nexus 4   \n",
       "\n",
       "                       ssid              bssid   caps  level  freq  \\\n",
       "0  downtownbrooklynwifi_fon  c4:10:8a:22:f4:f8  [ess]    -58  2427   \n",
       "\n",
       "                                       geometry  \n",
       "0  POINT (-73.98141451999999 40.69350921000006)  "
      ]
     },
     "execution_count": 24,
     "metadata": {},
     "output_type": "execute_result"
    }
   ],
   "source": [
    "# All the access points \n",
    "\n",
    "shape_path = '/Users/DXM/Documents/USI_2/dxm_clip.shp' # dxm_clip.shp is processed through ArcGIS.\n",
    "ct_shape = gpd.GeoDataFrame.from_file(shape_path)\n",
    "ct_shape.head(1)"
   ]
  },
  {
   "cell_type": "code",
   "execution_count": 33,
   "metadata": {
    "collapsed": false
   },
   "outputs": [
    {
     "data": {
      "text/plain": [
       "1762"
      ]
     },
     "execution_count": 33,
     "metadata": {},
     "output_type": "execute_result"
    }
   ],
   "source": [
    "# Find the number of unique points\n",
    "\n",
    "len(ct_shape.ssid.unique())"
   ]
  },
  {
   "cell_type": "code",
   "execution_count": 49,
   "metadata": {
    "collapsed": false
   },
   "outputs": [
    {
     "data": {
      "text/html": [
       "<div>\n",
       "<table border=\"1\" class=\"dataframe\">\n",
       "  <thead>\n",
       "    <tr style=\"text-align: right;\">\n",
       "      <th></th>\n",
       "      <th>ssid</th>\n",
       "      <th>counts</th>\n",
       "    </tr>\n",
       "  </thead>\n",
       "  <tbody>\n",
       "    <tr>\n",
       "      <th>0</th>\n",
       "      <td>downtownbrooklynwifi_fon</td>\n",
       "      <td>1546</td>\n",
       "    </tr>\n",
       "    <tr>\n",
       "      <th>1</th>\n",
       "      <td>tg1672g22-5g</td>\n",
       "      <td>188</td>\n",
       "    </tr>\n",
       "    <tr>\n",
       "      <th>2</th>\n",
       "      <td>tg1672g62-5g</td>\n",
       "      <td>148</td>\n",
       "    </tr>\n",
       "    <tr>\n",
       "      <th>3</th>\n",
       "      <td>tg1672g02-5g</td>\n",
       "      <td>142</td>\n",
       "    </tr>\n",
       "    <tr>\n",
       "      <th>4</th>\n",
       "      <td>tg1672g82-5g</td>\n",
       "      <td>139</td>\n",
       "    </tr>\n",
       "    <tr>\n",
       "      <th>5</th>\n",
       "      <td>tg1672gf2-5g</td>\n",
       "      <td>137</td>\n",
       "    </tr>\n",
       "    <tr>\n",
       "      <th>6</th>\n",
       "      <td>tg1672ge2-5g</td>\n",
       "      <td>132</td>\n",
       "    </tr>\n",
       "    <tr>\n",
       "      <th>7</th>\n",
       "      <td>tg1672g12-5g</td>\n",
       "      <td>130</td>\n",
       "    </tr>\n",
       "    <tr>\n",
       "      <th>8</th>\n",
       "      <td>tg1672g32-5g</td>\n",
       "      <td>119</td>\n",
       "    </tr>\n",
       "    <tr>\n",
       "      <th>9</th>\n",
       "      <td>twcwifi-passpoint</td>\n",
       "      <td>117</td>\n",
       "    </tr>\n",
       "  </tbody>\n",
       "</table>\n",
       "</div>"
      ],
      "text/plain": [
       "                       ssid  counts\n",
       "0  downtownbrooklynwifi_fon    1546\n",
       "1              tg1672g22-5g     188\n",
       "2              tg1672g62-5g     148\n",
       "3              tg1672g02-5g     142\n",
       "4              tg1672g82-5g     139\n",
       "5              tg1672gf2-5g     137\n",
       "6              tg1672ge2-5g     132\n",
       "7              tg1672g12-5g     130\n",
       "8              tg1672g32-5g     119\n",
       "9         twcwifi-passpoint     117"
      ]
     },
     "execution_count": 49,
     "metadata": {},
     "output_type": "execute_result"
    }
   ],
   "source": [
    "# Show the ssid of unique poins\n",
    "\n",
    "access_points = ct_shape.ssid.value_counts().reset_index()\n",
    "access_points.rename(columns={'ssid':'counts', 'index':'ssid'}, inplace=True)\n",
    "access_points.head(10)"
   ]
  },
  {
   "cell_type": "code",
   "execution_count": 50,
   "metadata": {
    "collapsed": false
   },
   "outputs": [
    {
     "data": {
      "text/html": [
       "<div>\n",
       "<table border=\"1\" class=\"dataframe\">\n",
       "  <thead>\n",
       "    <tr style=\"text-align: right;\">\n",
       "      <th></th>\n",
       "      <th>ssid</th>\n",
       "      <th>counts</th>\n",
       "    </tr>\n",
       "  </thead>\n",
       "  <tbody>\n",
       "    <tr>\n",
       "      <th>0</th>\n",
       "      <td>downtownbrooklynwifi_fon</td>\n",
       "      <td>1546</td>\n",
       "    </tr>\n",
       "  </tbody>\n",
       "</table>\n",
       "</div>"
      ],
      "text/plain": [
       "                       ssid  counts\n",
       "0  downtownbrooklynwifi_fon    1546"
      ]
     },
     "execution_count": 50,
     "metadata": {},
     "output_type": "execute_result"
    }
   ],
   "source": [
    "# Find free wifi\n",
    "# free_wifi=['#flatiron free wifi', 'freewifibysurface','bryantpark.org', 'downtownbrooklynwifi_fon',\n",
    "#'linknyc free wi-fi', 'metrotech','usp park wifi', 'red hook wifi']\n",
    "\n",
    "free_wifi=['#flatiron free wifi', 'freewifibysurface','bryantpark.org', 'downtownbrooklynwifi_fon',\n",
    "'linknyc free wi-fi', 'metrotech','usp park wifi', 'red hook wifi']\n",
    "\n",
    "free_points = access_points[access_points.ssid.isin(free_wifi)]\n",
    "free_points"
   ]
  },
  {
   "cell_type": "code",
   "execution_count": 56,
   "metadata": {
    "collapsed": false
   },
   "outputs": [
    {
     "name": "stdout",
     "output_type": "stream",
     "text": [
      "-80.0\n",
      "10.5543337646\n"
     ]
    }
   ],
   "source": [
    "## Show the median signal strength of free wifi\n",
    "\n",
    "free_points_level = ct_shape[ct_shape.ssid.isin(free_wifi)]\n",
    "print free_points_level.level.median()\n",
    "print free_points_level.acc.mean()"
   ]
  },
  {
   "cell_type": "code",
   "execution_count": null,
   "metadata": {
    "collapsed": true
   },
   "outputs": [],
   "source": []
  }
 ],
 "metadata": {
  "anaconda-cloud": {},
  "kernelspec": {
   "display_name": "Python [Root]",
   "language": "python",
   "name": "Python [Root]"
  },
  "language_info": {
   "codemirror_mode": {
    "name": "ipython",
    "version": 2
   },
   "file_extension": ".py",
   "mimetype": "text/x-python",
   "name": "python",
   "nbconvert_exporter": "python",
   "pygments_lexer": "ipython2",
   "version": "2.7.12"
  }
 },
 "nbformat": 4,
 "nbformat_minor": 0
}
